{
 "cells": [
  {
   "cell_type": "code",
   "execution_count": 461,
   "metadata": {},
   "outputs": [],
   "source": [
    "library(xts)\n",
    "library(dplyr)\n",
    "library(quantmod)\n",
    "library(vars)\n",
    "library(tseries)"
   ]
  },
  {
   "cell_type": "markdown",
   "metadata": {},
   "source": [
    "## Data wrangling"
   ]
  },
  {
   "cell_type": "code",
   "execution_count": 462,
   "metadata": {},
   "outputs": [
    {
     "name": "stderr",
     "output_type": "stream",
     "text": [
      "Warning message in eval(expr, envir, enclos):\n",
      "\"в результате преобразования созданы NA\""
     ]
    },
    {
     "ename": "ERROR",
     "evalue": "Error in xts(x = df_1$mp, order.by = df_1$Dates): 'order.by' cannot contain 'NA', 'NaN', or 'Inf'\n",
     "output_type": "error",
     "traceback": [
      "Error in xts(x = df_1$mp, order.by = df_1$Dates): 'order.by' cannot contain 'NA', 'NaN', or 'Inf'\nTraceback:\n",
      "1. xts(x = df_1$mp, order.by = df_1$Dates)",
      "2. stop(\"'order.by' cannot contain 'NA', 'NaN', or 'Inf'\")"
     ]
    }
   ],
   "source": [
    "# Mosprime rate from nfea\n",
    "\n",
    "df_1 <- read.csv(\"mosprime.csv\", header = TRUE, sep = \";\", dec = \",\")\n",
    "names(df_1)[1] <- 'Dates'\n",
    "names(df_1)[7] <- 'mp'\n",
    "drops_1 <- c(\"X\",\"X.1\", \"X.2\", \"X.3\", \"X.4\", \"X.6\", \"X.7\")\n",
    "df <- df_1[ , !(names(df_1) %in% drops)]\n",
    "df <- df_1[-c(1), ]\n",
    "\n",
    "#  Convert to date if not already\n",
    "df_1$Dates <- as.Date(df_1$Dates, format = \"%d-%m-%Y\")\n",
    "df_1$mp <- as.numeric(gsub(\",\", \".\", gsub(\"\\\\.\", \"\", df_1$mp)))\n",
    "\n",
    "#Create ts object\n",
    "\n",
    "mp_ts <- xts(x=df_1$mp, order.by=df_1$Dates)"
   ]
  },
  {
   "cell_type": "code",
   "execution_count": 285,
   "metadata": {},
   "outputs": [],
   "source": [
    "# We use 2-year term because it's more sensitive to exchange rate risks.\n",
    "\n",
    "df_2 <- read.csv(\"nfea_swap_rate.csv\", header = TRUE, sep = \";\", dec = \",\")\n",
    "names(df_2)[1] <- 'Dates'\n",
    "names(df_2)[11] <- 'sr'\n",
    "drops_2 <- c(\"X\",\"X.1\", \"X.2\", \"X.3\", \"X.4\", \"X.5\", \"X.6\", \"X.7\", \"X.8\", \"X.10\", \"X.11\", \"X.12\", \"X.13\")\n",
    "df_2 <- df_2[ , !(names(df_2) %in% drops)]\n",
    "df_2 <- df_2[-c(1), ]\n",
    "df_2$Dates <- as.Date(df_2$Dates, format = \"%d-%m-%Y\")\n",
    "df_2$sr <- as.numeric(gsub(\",\", \".\", gsub(\"\\\\.\", \"\", df_2$sr)))\n",
    "\n",
    "sr_ts <- xts(x = df_2$sr, order.by=df_2$Dates)"
   ]
  },
  {
   "cell_type": "code",
   "execution_count": 321,
   "metadata": {},
   "outputs": [],
   "source": [
    "# Bank of Russia policy rate form BIS site.\n",
    "\n",
    "df_3 <- read.csv(\"policy_rate.csv\", header = FALSE, sep = \";\", dec = \",\")\n",
    "\n",
    "#Creating time sequence\n",
    "\n",
    "st <- as.Date(\"2013-02-1\")\n",
    "en <- as.Date(\"2021-11-1\")\n",
    "dates <- seq(st, en, by = \"month\")\n",
    "\n",
    "pr_monthly <- xts(x = df_3$V1, order.by = dates)"
   ]
  },
  {
   "cell_type": "code",
   "execution_count": 354,
   "metadata": {},
   "outputs": [
    {
     "data": {
      "text/html": [
       "'DCOILBRENTEU'"
      ],
      "text/latex": [
       "'DCOILBRENTEU'"
      ],
      "text/markdown": [
       "'DCOILBRENTEU'"
      ],
      "text/plain": [
       "[1] \"DCOILBRENTEU\""
      ]
     },
     "metadata": {},
     "output_type": "display_data"
    },
    {
     "data": {
      "text/html": [
       "'RUSLORSGPRTSTSAM'"
      ],
      "text/latex": [
       "'RUSLORSGPRTSTSAM'"
      ],
      "text/markdown": [
       "'RUSLORSGPRTSTSAM'"
      ],
      "text/plain": [
       "[1] \"RUSLORSGPRTSTSAM\""
      ]
     },
     "metadata": {},
     "output_type": "display_data"
    }
   ],
   "source": [
    "# Crude oil daily data\n",
    "\n",
    "getSymbols(\"DCOILBRENTEU\", src = \"FRED\", from = \"2013-02-19\")\n",
    "brent <- DCOILBRENTEU[\"2013-02-19/\"]\n",
    "brent <- na.approx(brent)\n",
    "brent_monthly <- apply.monthly(brent, mean)\n",
    "\n",
    "# Detrended normalized GDP monthly data\n",
    "getSymbols(\"RUSLORSGPRTSTSAM\", src = \"FRED\", from = \"2013-02-19\")\n",
    "gdp <- RUSLORSGPRTSTSAM[\"2013-02/\"]"
   ]
  },
  {
   "cell_type": "code",
   "execution_count": 287,
   "metadata": {},
   "outputs": [
    {
     "data": {
      "image/png": "[encoded data removed]",
      "text/plain": [
       "plot without title"
      ]
     },
     "metadata": {},
     "output_type": "display_data"
    }
   ],
   "source": [
    "# Creating monthly data for mosprime and nfea swap rates\n",
    "\n",
    "mp_monthly <- apply.monthly(mp_ts, mean)\n",
    "sr_monthly <- apply.monthly(sr_ts, mean)"
   ]
  },
  {
   "cell_type": "code",
   "execution_count": 436,
   "metadata": {},
   "outputs": [
    {
     "data": {
      "text/plain": [
       "                  x\n",
       "2013-02-01 7.067000\n",
       "2013-03-01 7.068000\n",
       "2013-04-01 7.201364\n",
       "2013-05-01 7.160000\n",
       "2013-06-01 7.052105\n",
       "2013-07-01 7.005217"
      ]
     },
     "metadata": {},
     "output_type": "display_data"
    },
    {
     "data": {
      "text/plain": [
       "                  MP        SR     Brent    PR       GDP\n",
       "2013-02-01  7.067000  6.135000 114.14375  8.25 101.44463\n",
       "2013-03-01  7.068000  6.345789 108.47690  8.25 101.47443\n",
       "2013-04-01  7.201364  6.333182 102.24818  8.25 101.48869\n",
       "2013-05-01  7.160000  5.069444 102.58380  8.25 101.48714\n",
       "2013-06-01  7.052105  6.533684 102.91950  8.25 101.47436\n",
       "2013-07-01  7.005217  6.309565 107.88348  8.25 101.46044\n",
       "2013-08-01  6.856818  6.272273 111.28045  8.25 101.45560\n",
       "2013-09-01  6.792857  6.385714 111.78762  8.25 101.46502\n",
       "2013-10-01  6.797826  6.322174 109.07652  5.50 101.48339\n",
       "2013-11-01  6.863500  6.427500 107.95405  5.50 101.50155\n",
       "2013-12-01  7.078636  6.396364 110.79545  5.50 101.51284\n",
       "2014-01-01  7.042941  6.584706 108.15370  5.50 101.51954\n",
       "2014-02-01  7.115500  7.014000 108.94362  5.50 101.52605\n",
       "2014-03-01  9.005000  8.942500 107.48095  5.50 101.53243\n",
       "2014-04-01  9.279091  9.016818 107.84659  7.00 101.52835\n",
       "2014-05-01  9.802105  9.190000 109.53909  7.50 101.49896\n",
       "2014-06-01  9.570000  8.563158 111.79524  7.50 101.43182\n",
       "2014-07-01  9.557391  9.050435 106.86130  7.50 101.32572\n",
       "2014-08-01 10.154762  9.246190 101.60810  8.00 101.18304\n",
       "2014-09-01 10.282273  8.053636  97.24352  8.00 101.00502\n",
       "2014-10-01 10.679565  8.606957  87.42522  8.00 100.78984\n",
       "2014-11-01 12.161667 11.330000  79.19800  8.00 100.53540\n",
       "2014-12-01 20.113043 19.184783  62.17674  9.50 100.24486\n",
       "2015-01-01 21.872667 18.044000  48.05580 17.00  99.93502\n",
       "2015-02-01 17.551579 14.793684  58.09550 17.00  99.62850\n",
       "2015-03-01 16.212857 14.300476  55.88545 15.00  99.34755\n",
       "2015-04-01 14.788182 13.102727  59.35182 14.00  99.10776\n",
       "2015-05-01 13.651111 12.594444  63.99583 14.00  98.91863\n",
       "2015-06-01 12.939048 12.065238  61.47773 12.50  98.78117\n",
       "2015-07-01 12.402174 11.667826  56.56130 11.50  98.68185\n",
       "2015-08-01 11.927619 11.345714  46.61393 11.50  98.60338\n",
       "2015-09-01 11.904091 11.379091  47.62318 11.00  98.53257\n",
       "2015-10-01 11.822727 10.988636  48.43000 11.00  98.46668\n",
       "2015-11-01 11.787000 10.717000  44.26762 11.00  98.40859\n",
       "2015-12-01 11.850870 10.552609  37.96978 11.00  98.36151\n",
       "2016-01-01 11.910000 10.483333  30.97702 11.00  98.32315\n",
       "2016-02-01 11.961000 10.354000  32.13798 11.00  98.28955\n",
       "2016-03-01 11.828571 10.253333  38.21565 11.00  98.25817\n",
       "2016-04-01 11.663810 10.368571  41.58333 11.00  98.23057\n",
       "2016-05-01 11.415789 10.446316  46.85489 11.00  98.21161\n",
       "2016-06-01 11.183810 10.378571  48.24727 11.00  98.20827\n",
       "2016-07-01 10.950952  9.858095  44.95190 10.50  98.22777\n",
       "2016-08-01 10.885652  9.795217  45.84304 10.50  98.27552\n",
       "2016-09-01 10.623182  9.697727  46.56773 10.50  98.35135\n",
       "2016-10-01 10.573333  9.576190  49.52238 10.00  98.44351\n",
       "2016-11-01 10.590952  9.363333  44.73409 10.00  98.53751\n",
       "2016-12-01 10.595909  8.493636  53.42991 10.00  98.62379\n",
       "2017-01-01 10.531176  9.015882  54.59716 10.00  98.70492\n",
       "2017-02-01 10.487778  9.759444  54.86950 10.00  98.78886\n",
       "2017-03-01 10.361364  9.659091  51.58913 10.00  98.88234\n",
       "2017-04-01 10.045500  9.549000  52.44175  9.75  98.98387\n",
       "2017-05-01  9.517000  9.139000  50.32652  9.75  99.08754\n",
       "2017-06-01  9.261905  8.881429  46.36818  9.25  99.18608\n",
       "2017-07-01  9.212857  8.789048  48.47857  9.00  99.27365\n",
       "2017-08-01  9.166522  8.490000  51.70435  9.00  99.34872\n",
       "2017-09-01  8.870000  7.609524  56.15286  9.00  99.41766\n",
       "2017-10-01  8.595000  7.398182  57.50773  8.50  99.49905\n",
       "2017-11-01  8.363810  7.150952  62.71409  8.25  99.61286\n",
       "2017-12-01  8.132381  6.591905  64.49086  8.25  99.76854\n",
       "2018-01-01  7.787059  6.517059  68.97261  7.75  99.95068\n",
       "2018-02-01  7.481579  6.232632  65.31750  7.75 100.13324\n",
       "2018-03-01  7.364000  6.126500  66.15318  7.50 100.29182\n",
       "2018-04-01  7.367143  6.682381  71.95905  7.25 100.41598\n",
       "2018-05-01  7.397500  6.610500  76.77478  7.25 100.50440\n",
       "2018-06-01  7.435500  6.218500  74.40476  7.25 100.56246\n",
       "2018-07-01  7.436364  6.042273  74.25409  7.25 100.60233\n",
       "2018-08-01  7.586957  6.377826  72.52826  7.25 100.63758\n",
       "2018-09-01  7.910500  6.064500  78.89100  7.25 100.67908\n",
       "2018-10-01  8.253043  6.372609  81.03217  7.50 100.73122\n",
       "2018-11-01  8.383333  6.978571  64.74818  7.50 100.79790\n",
       "2018-12-01  8.550952  7.174762  56.32067  7.50 100.88772\n",
       "2019-01-01  8.587059  7.734118  59.14661  7.75 101.01808\n",
       "2019-02-01  8.617500  7.663000  63.96050  7.75 101.20095\n",
       "2019-03-01  8.454000  7.687000  66.13857  7.75 101.42544\n",
       "2019-04-01  8.307273  7.827273  71.20955  7.75 101.63648\n",
       "2019-05-01  8.223889  7.766667  71.24467  7.75 101.76607\n",
       "2019-06-01  8.118947  7.591579  64.22050  7.75 101.76577\n",
       "2019-07-01  7.885652  7.276957  63.91913  7.50 101.64511\n",
       "2019-08-01  7.613636  7.196364  59.04182  7.25 101.44085\n",
       "2019-09-01  7.300952  6.901429  62.82667  7.25 101.19445\n",
       "2019-10-01  7.098696  6.683478  59.71304  7.00 100.93577\n",
       "2019-11-01  6.797500  6.479500  63.21190  6.50 100.68307\n",
       "2019-12-01  6.597727  6.308182  67.31000  6.50 100.44399\n",
       "2020-01-01  6.452353  6.106471  63.80913  6.25 100.21616\n",
       "2020-02-01  6.313158  5.888947  55.65700  6.25  99.99311\n",
       "2020-03-01  6.509474  6.772105  32.01136  6.00  99.76925\n",
       "2020-04-01  6.440000  6.577895  18.61545  6.00  96.89318\n",
       "2020-05-01  5.921176  5.313529  29.36512  5.50  95.42261\n",
       "2020-06-01  5.298500  4.696500  40.26682  5.50  96.08381\n",
       "2020-07-01  4.731818  4.215000  43.24217  4.50  96.74090\n",
       "2020-08-01  4.613333  4.100000  44.77690  4.25  97.39927\n",
       "2020-09-01  4.640909  4.052273  40.90955  4.25  97.65961\n",
       "2020-10-01  4.645000  3.885909  40.18955  4.25  97.93190\n",
       "2020-11-01  4.745500  3.774000  42.69238  4.25  98.22015\n",
       "2020-12-01  4.927826  3.972609  50.03217  4.25  98.50180\n",
       "2021-01-01  4.888000  4.160000  54.59464  4.25  98.79774\n",
       "2021-02-01  4.854211  4.215789  62.27650  4.25  99.09547\n",
       "2021-03-01  4.981364  4.516818  65.41000  4.25 100.07336\n",
       "2021-04-01  5.421818  5.080909  64.61136  4.50 100.88146\n",
       "2021-05-01  5.714737  5.172105  68.60131  5.00 101.51078"
      ]
     },
     "metadata": {},
     "output_type": "display_data"
    },
    {
     "data": {
      "text/plain": [
       "                 MP       SR    Brent   PR      GDP\n",
       "2013-02-01 7.067000 6.135000 114.1437 8.25 101.4446\n",
       "2013-03-01 7.068000 6.345789 108.4769 8.25 101.4744\n",
       "2013-04-01 7.201364 6.333182 102.2482 8.25 101.4887\n",
       "2013-05-01 7.160000 5.069444 102.5838 8.25 101.4871\n",
       "2013-06-01 7.052105 6.533684 102.9195 8.25 101.4744\n",
       "2013-07-01 7.005217 6.309565 107.8835 8.25 101.4604"
      ]
     },
     "metadata": {},
     "output_type": "display_data"
    }
   ],
   "source": [
    "# Merging our series for future VARs\n",
    "\n",
    "st <- as.Date(\"2013-02-1\")\n",
    "en <- as.Date(\"2021-05-1\")\n",
    "dates <- seq(st, en, by = \"month\")\n",
    "\n",
    "mp_monthly <- mp_monthly[\"2013-02/2021-05\"]\n",
    "mp_monthly <- xts(mp_monthly, order.by = dates)\n",
    "head(mp_monthly)\n",
    "\n",
    "sr_monthly <- sr_monthly[\"2013-02/2021-05\"]\n",
    "brent_monthly <- brent_monthly[\"2013-02/2021-05\"]\n",
    "pr_monthly <- pr_monthly[\"2013-02/2021-05\"]\n",
    "\n",
    "sr_monthly <- xts(sr_monthly, order.by = dates)\n",
    "brent_monthly <- xts(brent_monthly, order.by = dates)\n",
    "pr_monthly <- xts(pr_monthly, order.by = dates)\n",
    "gdp_monthly <- xts(gdp, order.by = dates)\n",
    "\n",
    "data <- merge(mp_monthly, sr_monthly, brent_monthly, pr_monthly, gdp_monthly)\n",
    "names(data) = c(\"MP\", \"SR\", \"Brent\", \"PR\", \"GDP\")\n",
    "\n",
    "na.approx(data)\n",
    "\n",
    "head(data)"
   ]
  },
  {
   "cell_type": "code",
   "execution_count": 437,
   "metadata": {},
   "outputs": [],
   "source": [
    "# Making our data stationary\n",
    "\n",
    "for (i in 1:5){\n",
    "data[,i] = 400 * Delt(data[,i], typ = \"log\")\n",
    "    }\n",
    "data <- na.omit(data)"
   ]
  },
  {
   "cell_type": "markdown",
   "metadata": {},
   "source": [
    "## Vector Autoregressions"
   ]
  },
  {
   "cell_type": "code",
   "execution_count": 438,
   "metadata": {},
   "outputs": [
    {
     "data": {
      "text/html": [
       "<dl>\n",
       "\t<dt>$selection</dt>\n",
       "\t\t<dd><dl class=dl-horizontal>\n",
       "\t<dt>AIC(n)</dt>\n",
       "\t\t<dd>3</dd>\n",
       "\t<dt>HQ(n)</dt>\n",
       "\t\t<dd>1</dd>\n",
       "\t<dt>SC(n)</dt>\n",
       "\t\t<dd>1</dd>\n",
       "\t<dt>FPE(n)</dt>\n",
       "\t\t<dd>3</dd>\n",
       "</dl>\n",
       "</dd>\n",
       "\t<dt>$criteria</dt>\n",
       "\t\t<dd><table>\n",
       "<thead><tr><th></th><th scope=col>1</th><th scope=col>2</th><th scope=col>3</th><th scope=col>4</th><th scope=col>5</th><th scope=col>6</th><th scope=col>7</th><th scope=col>8</th><th scope=col>9</th><th scope=col>10</th></tr></thead>\n",
       "<tbody>\n",
       "\t<tr><th scope=row>AIC(n)</th><td>2.509964e+01</td><td>2.494414e+01</td><td>2.485576e+01</td><td>2.494156e+01</td><td>2.522015e+01</td><td>2.516085e+01</td><td>2.530439e+01</td><td>2.521186e+01</td><td>2.521897e+01</td><td>2.491753e+01</td></tr>\n",
       "\t<tr><th scope=row>HQ(n)</th><td>2.543776e+01</td><td>2.556403e+01</td><td>2.575742e+01</td><td>2.612499e+01</td><td>2.668535e+01</td><td>2.690782e+01</td><td>2.733312e+01</td><td>2.752237e+01</td><td>2.781125e+01</td><td>2.779158e+01</td></tr>\n",
       "\t<tr><th scope=row>SC(n)</th><td>2.593851e+01</td><td>2.648206e+01</td><td>2.709273e+01</td><td>2.787759e+01</td><td>2.885524e+01</td><td>2.949499e+01</td><td>3.033758e+01</td><td>3.094411e+01</td><td>3.165028e+01</td><td>3.204790e+01</td></tr>\n",
       "\t<tr><th scope=row>FPE(n)</th><td>7.963062e+10</td><td>6.852681e+10</td><td>6.357651e+10</td><td>7.106559e+10</td><td>9.795674e+10</td><td>9.846300e+10</td><td>1.247468e+11</td><td>1.294790e+11</td><td>1.556394e+11</td><td>1.460884e+11</td></tr>\n",
       "</tbody>\n",
       "</table>\n",
       "</dd>\n",
       "</dl>\n"
      ],
      "text/latex": [
       "\\begin{description}\n",
       "\\item[\\$selection] \\begin{description*}\n",
       "\\item[AIC(n)] 3\n",
       "\\item[HQ(n)] 1\n",
       "\\item[SC(n)] 1\n",
       "\\item[FPE(n)] 3\n",
       "\\end{description*}\n",
       "\n",
       "\\item[\\$criteria] \\begin{tabular}{r|llllllllll}\n",
       "  & 1 & 2 & 3 & 4 & 5 & 6 & 7 & 8 & 9 & 10\\\\\n",
       "\\hline\n",
       "\tAIC(n) & 2.509964e+01 & 2.494414e+01 & 2.485576e+01 & 2.494156e+01 & 2.522015e+01 & 2.516085e+01 & 2.530439e+01 & 2.521186e+01 & 2.521897e+01 & 2.491753e+01\\\\\n",
       "\tHQ(n) & 2.543776e+01 & 2.556403e+01 & 2.575742e+01 & 2.612499e+01 & 2.668535e+01 & 2.690782e+01 & 2.733312e+01 & 2.752237e+01 & 2.781125e+01 & 2.779158e+01\\\\\n",
       "\tSC(n) & 2.593851e+01 & 2.648206e+01 & 2.709273e+01 & 2.787759e+01 & 2.885524e+01 & 2.949499e+01 & 3.033758e+01 & 3.094411e+01 & 3.165028e+01 & 3.204790e+01\\\\\n",
       "\tFPE(n) & 7.963062e+10 & 6.852681e+10 & 6.357651e+10 & 7.106559e+10 & 9.795674e+10 & 9.846300e+10 & 1.247468e+11 & 1.294790e+11 & 1.556394e+11 & 1.460884e+11\\\\\n",
       "\\end{tabular}\n",
       "\n",
       "\\end{description}\n"
      ],
      "text/markdown": [
       "$selection\n",
       ":   AIC(n)\n",
       ":   3HQ(n)\n",
       ":   1SC(n)\n",
       ":   1FPE(n)\n",
       ":   3\n",
       "\n",
       "\n",
       "$criteria\n",
       ":   \n",
       "| <!--/--> | 1 | 2 | 3 | 4 | 5 | 6 | 7 | 8 | 9 | 10 |\n",
       "|---|---|---|---|---|---|---|---|---|---|---|\n",
       "| AIC(n) | 2.509964e+01 | 2.494414e+01 | 2.485576e+01 | 2.494156e+01 | 2.522015e+01 | 2.516085e+01 | 2.530439e+01 | 2.521186e+01 | 2.521897e+01 | 2.491753e+01 |\n",
       "| HQ(n) | 2.543776e+01 | 2.556403e+01 | 2.575742e+01 | 2.612499e+01 | 2.668535e+01 | 2.690782e+01 | 2.733312e+01 | 2.752237e+01 | 2.781125e+01 | 2.779158e+01 |\n",
       "| SC(n) | 2.593851e+01 | 2.648206e+01 | 2.709273e+01 | 2.787759e+01 | 2.885524e+01 | 2.949499e+01 | 3.033758e+01 | 3.094411e+01 | 3.165028e+01 | 3.204790e+01 |\n",
       "| FPE(n) | 7.963062e+10 | 6.852681e+10 | 6.357651e+10 | 7.106559e+10 | 9.795674e+10 | 9.846300e+10 | 1.247468e+11 | 1.294790e+11 | 1.556394e+11 | 1.460884e+11 |\n",
       "\n",
       "\n",
       "\n",
       "\n"
      ],
      "text/plain": [
       "$selection\n",
       "AIC(n)  HQ(n)  SC(n) FPE(n) \n",
       "     3      1      1      3 \n",
       "\n",
       "$criteria\n",
       "                  1            2            3            4            5\n",
       "AIC(n) 2.509964e+01 2.494414e+01 2.485576e+01 2.494156e+01 2.522015e+01\n",
       "HQ(n)  2.543776e+01 2.556403e+01 2.575742e+01 2.612499e+01 2.668535e+01\n",
       "SC(n)  2.593851e+01 2.648206e+01 2.709273e+01 2.787759e+01 2.885524e+01\n",
       "FPE(n) 7.963062e+10 6.852681e+10 6.357651e+10 7.106559e+10 9.795674e+10\n",
       "                  6            7            8            9           10\n",
       "AIC(n) 2.516085e+01 2.530439e+01 2.521186e+01 2.521897e+01 2.491753e+01\n",
       "HQ(n)  2.690782e+01 2.733312e+01 2.752237e+01 2.781125e+01 2.779158e+01\n",
       "SC(n)  2.949499e+01 3.033758e+01 3.094411e+01 3.165028e+01 3.204790e+01\n",
       "FPE(n) 9.846300e+10 1.247468e+11 1.294790e+11 1.556394e+11 1.460884e+11\n"
      ]
     },
     "metadata": {},
     "output_type": "display_data"
    }
   ],
   "source": [
    "VARselect(data) # tests suggest order 1 or 3"
   ]
  },
  {
   "cell_type": "code",
   "execution_count": 444,
   "metadata": {},
   "outputs": [
    {
     "data": {
      "text/plain": [
       "\n",
       "VAR Estimation Results:\n",
       "========================= \n",
       "Endogenous variables: MP, SR, Brent, PR, GDP \n",
       "Deterministic variables: const \n",
       "Sample size: 98 \n",
       "Log Likelihood: -1954.619 \n",
       "Roots of the characteristic polynomial:\n",
       "  0.6   0.6 0.3764 0.3764 0.1086\n",
       "Call:\n",
       "VAR(y = data, p = 1)\n",
       "\n",
       "\n",
       "Estimation results for equation MP: \n",
       "=================================== \n",
       "MP = MP.l1 + SR.l1 + Brent.l1 + PR.l1 + GDP.l1 + const \n",
       "\n",
       "          Estimate Std. Error t value Pr(>|t|)   \n",
       "MP.l1     0.154106   0.152859   1.008  0.31602   \n",
       "SR.l1     0.327986   0.112956   2.904  0.00462 **\n",
       "Brent.l1  0.005527   0.055989   0.099  0.92157   \n",
       "PR.l1    -0.173086   0.079283  -2.183  0.03157 * \n",
       "GDP.l1    1.835201   1.660016   1.106  0.27181   \n",
       "const    -0.822083   2.465127  -0.333  0.73953   \n",
       "---\n",
       "Signif. codes:  0 '***' 0.001 '**' 0.01 '*' 0.05 '.' 0.1 ' ' 1\n",
       "\n",
       "\n",
       "Residual standard error: 24.28 on 92 degrees of freedom\n",
       "Multiple R-Squared: 0.3152,\tAdjusted R-squared: 0.2779 \n",
       "F-statistic: 8.467 on 5 and 92 DF,  p-value: 1.267e-06 \n",
       "\n",
       "\n",
       "Estimation results for equation SR: \n",
       "=================================== \n",
       "SR = MP.l1 + SR.l1 + Brent.l1 + PR.l1 + GDP.l1 + const \n",
       "\n",
       "         Estimate Std. Error t value Pr(>|t|)  \n",
       "MP.l1     0.12977    0.22681   0.572   0.5686  \n",
       "SR.l1     0.15760    0.16760   0.940   0.3495  \n",
       "Brent.l1  0.02294    0.08308   0.276   0.7830  \n",
       "PR.l1    -0.17215    0.11764  -1.463   0.1468  \n",
       "GDP.l1    4.41554    2.46311   1.793   0.0763 .\n",
       "const    -0.84537    3.65772  -0.231   0.8177  \n",
       "---\n",
       "Signif. codes:  0 '***' 0.001 '**' 0.01 '*' 0.05 '.' 0.1 ' ' 1\n",
       "\n",
       "\n",
       "Residual standard error: 36.03 on 92 degrees of freedom\n",
       "Multiple R-Squared: 0.1108,\tAdjusted R-squared: 0.06243 \n",
       "F-statistic: 2.292 on 5 and 92 DF,  p-value: 0.05192 \n",
       "\n",
       "\n",
       "Estimation results for equation Brent: \n",
       "====================================== \n",
       "Brent = MP.l1 + SR.l1 + Brent.l1 + PR.l1 + GDP.l1 + const \n",
       "\n",
       "          Estimate Std. Error t value Pr(>|t|)    \n",
       "MP.l1     -0.04803    0.28880  -0.166 0.868283    \n",
       "SR.l1     -0.18245    0.21341  -0.855 0.394818    \n",
       "Brent.l1   0.39289    0.10578   3.714 0.000349 ***\n",
       "PR.l1      0.23345    0.14979   1.559 0.122541    \n",
       "GDP.l1   -10.85008    3.13630  -3.460 0.000822 ***\n",
       "const     -0.81903    4.65741  -0.176 0.860795    \n",
       "---\n",
       "Signif. codes:  0 '***' 0.001 '**' 0.01 '*' 0.05 '.' 0.1 ' ' 1\n",
       "\n",
       "\n",
       "Residual standard error: 45.88 on 92 degrees of freedom\n",
       "Multiple R-Squared: 0.2499,\tAdjusted R-squared: 0.2092 \n",
       "F-statistic: 6.131 on 5 and 92 DF,  p-value: 6.028e-05 \n",
       "\n",
       "\n",
       "Estimation results for equation PR: \n",
       "=================================== \n",
       "PR = MP.l1 + SR.l1 + Brent.l1 + PR.l1 + GDP.l1 + const \n",
       "\n",
       "         Estimate Std. Error t value Pr(>|t|)    \n",
       "MP.l1     1.01015    0.12927   7.814 8.76e-12 ***\n",
       "SR.l1     0.06719    0.09553   0.703    0.484    \n",
       "Brent.l1  0.07798    0.04735   1.647    0.103    \n",
       "PR.l1    -0.09136    0.06705  -1.363    0.176    \n",
       "GDP.l1   -0.54786    1.40388  -0.390    0.697    \n",
       "const    -0.95701    2.08477  -0.459    0.647    \n",
       "---\n",
       "Signif. codes:  0 '***' 0.001 '**' 0.01 '*' 0.05 '.' 0.1 ' ' 1\n",
       "\n",
       "\n",
       "Residual standard error: 20.54 on 92 degrees of freedom\n",
       "Multiple R-Squared: 0.6715,\tAdjusted R-squared: 0.6536 \n",
       "F-statistic: 37.61 on 5 and 92 DF,  p-value: < 2.2e-16 \n",
       "\n",
       "\n",
       "Estimation results for equation GDP: \n",
       "==================================== \n",
       "GDP = MP.l1 + SR.l1 + Brent.l1 + PR.l1 + GDP.l1 + const \n",
       "\n",
       "           Estimate Std. Error t value Pr(>|t|)    \n",
       "MP.l1     0.0120295  0.0067036   1.794    0.076 .  \n",
       "SR.l1    -0.0068136  0.0049536  -1.375    0.172    \n",
       "Brent.l1  0.0189432  0.0024554   7.715 1.40e-11 ***\n",
       "PR.l1     0.0005068  0.0034769   0.146    0.884    \n",
       "GDP.l1    0.3550290  0.0727993   4.877 4.49e-06 ***\n",
       "const     0.0625512  0.1081072   0.579    0.564    \n",
       "---\n",
       "Signif. codes:  0 '***' 0.001 '**' 0.01 '*' 0.05 '.' 0.1 ' ' 1\n",
       "\n",
       "\n",
       "Residual standard error: 1.065 on 92 degrees of freedom\n",
       "Multiple R-Squared: 0.6017,\tAdjusted R-squared:  0.58 \n",
       "F-statistic:  27.8 on 5 and 92 DF,  p-value: < 2.2e-16 \n",
       "\n",
       "\n",
       "\n",
       "Covariance matrix of residuals:\n",
       "            MP        SR   Brent       PR     GDP\n",
       "MP     589.658  699.6964 -230.35  24.8544  1.4251\n",
       "SR     699.696 1298.2054 -475.01  41.3219 -0.6818\n",
       "Brent -230.348 -475.0052 2104.80 -58.8576 21.2777\n",
       "PR      24.854   41.3219  -58.86 421.7337  0.3904\n",
       "GDP      1.425   -0.6818   21.28   0.3904  1.1340\n",
       "\n",
       "Correlation matrix of residuals:\n",
       "            MP       SR    Brent       PR      GDP\n",
       "MP     1.00000  0.79972 -0.20677  0.04984  0.05511\n",
       "SR     0.79972  1.00000 -0.28736  0.05585 -0.01777\n",
       "Brent -0.20677 -0.28736  1.00000 -0.06247  0.43552\n",
       "PR     0.04984  0.05585 -0.06247  1.00000  0.01785\n",
       "GDP    0.05511 -0.01777  0.43552  0.01785  1.00000\n",
       "\n"
      ]
     },
     "metadata": {},
     "output_type": "display_data"
    }
   ],
   "source": [
    "# Evaluating VAR(1)\n",
    "\n",
    "data_var <- VAR(data, p = 1)\n",
    "summary(data_var)"
   ]
  },
  {
   "cell_type": "markdown",
   "metadata": {},
   "source": [
    "## Impulse Response Functions"
   ]
  },
  {
   "cell_type": "code",
   "execution_count": 459,
   "metadata": {},
   "outputs": [
    {
     "data": {
      "image/png": "[encoded data removed]",
      "text/plain": [
       "plot without title"
      ]
     },
     "metadata": {},
     "output_type": "display_data"
    }
   ],
   "source": [
    "plot(irf(data_var, impulse = \"GDP\", boot = 500, ortho = F))"
   ]
  },
  {
   "cell_type": "code",
   "execution_count": 460,
   "metadata": {},
   "outputs": [
    {
     "data": {
      "image/png": "[encoded data removed]",
      "text/plain": [
       "plot without title"
      ]
     },
     "metadata": {},
     "output_type": "display_data"
    }
   ],
   "source": [
    "plot(irf(data_var, impulse = \"SR\", boot = 500, ortho = F))"
   ]
  }
 ],
 "metadata": {
  "kernelspec": {
   "display_name": "R",
   "language": "R",
   "name": "ir"
  },
  "language_info": {
   "codemirror_mode": "r",
   "file_extension": ".r",
   "mimetype": "text/x-r-source",
   "name": "R",
   "pygments_lexer": "r",
   "version": "3.6.1"
  }
 },
 "nbformat": 4,
 "nbformat_minor": 4
}
