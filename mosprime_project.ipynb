{
 "cells": [
  {
   "cell_type": "code",
   "execution_count": 1,
   "metadata": {},
   "outputs": [
    {
     "name": "stderr",
     "output_type": "stream",
     "text": [
      "Loading required package: zoo\n",
      "\n",
      "Attaching package: 'zoo'\n",
      "\n",
      "The following objects are masked from 'package:base':\n",
      "\n",
      "    as.Date, as.Date.numeric\n",
      "\n",
      "Registered S3 method overwritten by 'xts':\n",
      "  method     from\n",
      "  as.zoo.xts zoo \n",
      "Warning message:\n",
      "\"package 'dplyr' was built under R version 3.6.3\"\n",
      "Attaching package: 'dplyr'\n",
      "\n",
      "The following objects are masked from 'package:xts':\n",
      "\n",
      "    first, last\n",
      "\n",
      "The following objects are masked from 'package:stats':\n",
      "\n",
      "    filter, lag\n",
      "\n",
      "The following objects are masked from 'package:base':\n",
      "\n",
      "    intersect, setdiff, setequal, union\n",
      "\n",
      "Warning message:\n",
      "\"package 'quantmod' was built under R version 3.6.3\"Loading required package: TTR\n",
      "Registered S3 method overwritten by 'quantmod':\n",
      "  method            from\n",
      "  as.zoo.data.frame zoo \n",
      "Loading required package: MASS\n",
      "\n",
      "Attaching package: 'MASS'\n",
      "\n",
      "The following object is masked from 'package:dplyr':\n",
      "\n",
      "    select\n",
      "\n",
      "Loading required package: strucchange\n",
      "Warning message:\n",
      "\"package 'strucchange' was built under R version 3.6.3\"Loading required package: sandwich\n",
      "Loading required package: urca\n",
      "Warning message:\n",
      "\"package 'urca' was built under R version 3.6.3\"Loading required package: lmtest\n",
      "Warning message:\n",
      "\"package 'lmtest' was built under R version 3.6.3\"Warning message:\n",
      "\"package 'tseries' was built under R version 3.6.3\""
     ]
    }
   ],
   "source": [
    "library(xts)\n",
    "library(dplyr)\n",
    "library(quantmod)\n",
    "library(vars)\n",
    "library(tseries)"
   ]
  },
  {
   "cell_type": "markdown",
   "metadata": {},
   "source": [
    "## Data wrangling\n",
    "\n",
    "You can simply skip this part and go directly to \"Analysis\" chapter."
   ]
  },
  {
   "cell_type": "code",
   "execution_count": 33,
   "metadata": {},
   "outputs": [
    {
     "name": "stderr",
     "output_type": "stream",
     "text": [
      "Warning message in eval(expr, envir, enclos):\n",
      "\"в результате преобразования созданы NA\""
     ]
    },
    {
     "data": {
      "text/html": [
       "<table>\n",
       "<thead><tr><th></th><th scope=col>Dates</th><th scope=col>X</th><th scope=col>X.1</th><th scope=col>X.2</th><th scope=col>X.3</th><th scope=col>X.4</th><th scope=col>mp</th><th scope=col>X.6</th><th scope=col>X.7</th></tr></thead>\n",
       "<tbody>\n",
       "\t<tr><th scope=row>2</th><td>2021-11-19</td><td>7,61      </td><td>7,75      </td><td>7,80      </td><td>7,99      </td><td>8,25      </td><td>8.52      </td><td>8,66      </td><td>NA        </td></tr>\n",
       "\t<tr><th scope=row>3</th><td>2021-11-18</td><td>7,65      </td><td>7,76      </td><td>7,80      </td><td>8,00      </td><td>8,26      </td><td>8.52      </td><td>8,67      </td><td>NA        </td></tr>\n",
       "\t<tr><th scope=row>4</th><td>2021-11-17</td><td>7,62      </td><td>7,72      </td><td>7,78      </td><td>7,99      </td><td>8,24      </td><td>8.48      </td><td>8,63      </td><td>NA        </td></tr>\n",
       "\t<tr><th scope=row>5</th><td>2021-11-16</td><td>7,63      </td><td>7,69      </td><td>7,77      </td><td>8,00      </td><td>8,23      </td><td>8.49      </td><td>8,68      </td><td>NA        </td></tr>\n",
       "\t<tr><th scope=row>6</th><td>2021-11-15</td><td>7,58      </td><td>7,68      </td><td>7,77      </td><td>7,99      </td><td>8,22      </td><td>8.48      </td><td>8,63      </td><td>NA        </td></tr>\n",
       "\t<tr><th scope=row>7</th><td>2021-11-12</td><td>7,56      </td><td>7,68      </td><td>7,76      </td><td>7,99      </td><td>8,23      </td><td>8.48      </td><td>8,64      </td><td>NA        </td></tr>\n",
       "</tbody>\n",
       "</table>\n"
      ],
      "text/latex": [
       "\\begin{tabular}{r|lllllllll}\n",
       "  & Dates & X & X.1 & X.2 & X.3 & X.4 & mp & X.6 & X.7\\\\\n",
       "\\hline\n",
       "\t2 & 2021-11-19 & 7,61       & 7,75       & 7,80       & 7,99       & 8,25       & 8.52       & 8,66       & NA        \\\\\n",
       "\t3 & 2021-11-18 & 7,65       & 7,76       & 7,80       & 8,00       & 8,26       & 8.52       & 8,67       & NA        \\\\\n",
       "\t4 & 2021-11-17 & 7,62       & 7,72       & 7,78       & 7,99       & 8,24       & 8.48       & 8,63       & NA        \\\\\n",
       "\t5 & 2021-11-16 & 7,63       & 7,69       & 7,77       & 8,00       & 8,23       & 8.49       & 8,68       & NA        \\\\\n",
       "\t6 & 2021-11-15 & 7,58       & 7,68       & 7,77       & 7,99       & 8,22       & 8.48       & 8,63       & NA        \\\\\n",
       "\t7 & 2021-11-12 & 7,56       & 7,68       & 7,76       & 7,99       & 8,23       & 8.48       & 8,64       & NA        \\\\\n",
       "\\end{tabular}\n"
      ],
      "text/markdown": [
       "\n",
       "| <!--/--> | Dates | X | X.1 | X.2 | X.3 | X.4 | mp | X.6 | X.7 |\n",
       "|---|---|---|---|---|---|---|---|---|---|\n",
       "| 2 | 2021-11-19 | 7,61       | 7,75       | 7,80       | 7,99       | 8,25       | 8.52       | 8,66       | NA         |\n",
       "| 3 | 2021-11-18 | 7,65       | 7,76       | 7,80       | 8,00       | 8,26       | 8.52       | 8,67       | NA         |\n",
       "| 4 | 2021-11-17 | 7,62       | 7,72       | 7,78       | 7,99       | 8,24       | 8.48       | 8,63       | NA         |\n",
       "| 5 | 2021-11-16 | 7,63       | 7,69       | 7,77       | 8,00       | 8,23       | 8.49       | 8,68       | NA         |\n",
       "| 6 | 2021-11-15 | 7,58       | 7,68       | 7,77       | 7,99       | 8,22       | 8.48       | 8,63       | NA         |\n",
       "| 7 | 2021-11-12 | 7,56       | 7,68       | 7,76       | 7,99       | 8,23       | 8.48       | 8,64       | NA         |\n",
       "\n"
      ],
      "text/plain": [
       "  Dates      X    X.1  X.2  X.3  X.4  mp   X.6  X.7\n",
       "2 2021-11-19 7,61 7,75 7,80 7,99 8,25 8.52 8,66 NA \n",
       "3 2021-11-18 7,65 7,76 7,80 8,00 8,26 8.52 8,67 NA \n",
       "4 2021-11-17 7,62 7,72 7,78 7,99 8,24 8.48 8,63 NA \n",
       "5 2021-11-16 7,63 7,69 7,77 8,00 8,23 8.49 8,68 NA \n",
       "6 2021-11-15 7,58 7,68 7,77 7,99 8,22 8.48 8,63 NA \n",
       "7 2021-11-12 7,56 7,68 7,76 7,99 8,23 8.48 8,64 NA "
      ]
     },
     "metadata": {},
     "output_type": "display_data"
    }
   ],
   "source": [
    "# Mosprime rate from nfea\n",
    "\n",
    "df_1 <- read.csv(\"mosprime.csv\", header = TRUE, sep = \";\", dec = \",\")\n",
    "names(df_1)[1] <- 'Dates'\n",
    "names(df_1)[7] <- 'mp'\n",
    "drops_1 <- c(\"X\",\"X.1\", \"X.2\", \"X.3\", \"X.4\", \"X.6\", \"X.7\")\n",
    "df <- df_1[ , !(names(df_1) %in% drops_1)]\n",
    "df <- df_1[-c(1), ]\n",
    "\n",
    "#  Convert to date if not already\n",
    "df_1$Dates <- as.Date(df_1$Dates, format = \"%d-%m-%Y\")\n",
    "df_1$mp <- as.numeric(gsub(\",\", \".\", gsub(\"\\\\.\", \"\", df_1$mp)))\n",
    "df_1 <- df_1[-c(1), ]\n",
    "\n",
    "#Create ts object\n",
    "mp_ts <- xts(x = df_1$mp, order.by = df_1$Dates)"
   ]
  },
  {
   "cell_type": "code",
   "execution_count": 34,
   "metadata": {},
   "outputs": [],
   "source": [
    "# We use 2-year term because it's more sensitive to exchange rate risks.\n",
    "\n",
    "df_2 <- read.csv(\"nfea_swap_rate.csv\", header = TRUE, sep = \";\", dec = \",\")\n",
    "names(df_2)[1] <- 'Dates'\n",
    "names(df_2)[11] <- 'sr'\n",
    "drops_2 <- c(\"X\",\"X.1\", \"X.2\", \"X.3\", \"X.4\", \"X.5\", \"X.6\", \"X.7\", \"X.8\", \"X.10\", \"X.11\", \"X.12\", \"X.13\")\n",
    "df_2 <- df_2[ , !(names(df_2) %in% drops_1)]\n",
    "df_2 <- df_2[-c(1), ]\n",
    "df_2$Dates <- as.Date(df_2$Dates, format = \"%d-%m-%Y\")\n",
    "df_2$sr <- as.numeric(gsub(\",\", \".\", gsub(\"\\\\.\", \"\", df_2$sr)))\n",
    "\n",
    "sr_ts <- xts(x = df_2$sr, order.by=df_2$Dates)"
   ]
  },
  {
   "cell_type": "code",
   "execution_count": 35,
   "metadata": {},
   "outputs": [],
   "source": [
    "# Bank of Russia policy rate form BIS site.\n",
    "\n",
    "df_3 <- read.csv(\"policy_rate.csv\", header = FALSE, sep = \";\", dec = \",\")\n",
    "\n",
    "#Creating time sequence\n",
    "\n",
    "st <- as.Date(\"2013-02-1\")\n",
    "en <- as.Date(\"2021-11-1\")\n",
    "dates <- seq(st, en, by = \"month\")\n",
    "\n",
    "pr_monthly <- xts(x = df_3$V1, order.by = dates)"
   ]
  },
  {
   "cell_type": "code",
   "execution_count": 36,
   "metadata": {},
   "outputs": [
    {
     "data": {
      "text/html": [
       "'DCOILBRENTEU'"
      ],
      "text/latex": [
       "'DCOILBRENTEU'"
      ],
      "text/markdown": [
       "'DCOILBRENTEU'"
      ],
      "text/plain": [
       "[1] \"DCOILBRENTEU\""
      ]
     },
     "metadata": {},
     "output_type": "display_data"
    },
    {
     "data": {
      "text/html": [
       "'RUSLORSGPRTSTSAM'"
      ],
      "text/latex": [
       "'RUSLORSGPRTSTSAM'"
      ],
      "text/markdown": [
       "'RUSLORSGPRTSTSAM'"
      ],
      "text/plain": [
       "[1] \"RUSLORSGPRTSTSAM\""
      ]
     },
     "metadata": {},
     "output_type": "display_data"
    }
   ],
   "source": [
    "# Crude oil daily data\n",
    "\n",
    "getSymbols(\"DCOILBRENTEU\", src = \"FRED\", from = \"2013-02-19\")\n",
    "brent <- DCOILBRENTEU[\"2013-02-19/\"]\n",
    "brent <- na.approx(brent)\n",
    "brent_monthly <- apply.monthly(brent, mean)\n",
    "\n",
    "# Detrended normalized GDP monthly data\n",
    "getSymbols(\"RUSLORSGPRTSTSAM\", src = \"FRED\", from = \"2013-02-19\")\n",
    "gdp <- RUSLORSGPRTSTSAM[\"2013-02/\"]"
   ]
  },
  {
   "cell_type": "code",
   "execution_count": 37,
   "metadata": {},
   "outputs": [],
   "source": [
    "# Creating monthly data for mosprime and nfea swap rates\n",
    "\n",
    "mp_monthly <- apply.monthly(mp_ts, mean)\n",
    "sr_monthly <- apply.monthly(sr_ts, mean)"
   ]
  },
  {
   "cell_type": "code",
   "execution_count": 38,
   "metadata": {},
   "outputs": [
    {
     "data": {
      "text/plain": [
       "                  x\n",
       "2013-02-01 7.067000\n",
       "2013-03-01 7.068000\n",
       "2013-04-01 7.201364\n",
       "2013-05-01 7.160000\n",
       "2013-06-01 7.052105\n",
       "2013-07-01 7.005217"
      ]
     },
     "metadata": {},
     "output_type": "display_data"
    },
    {
     "data": {
      "text/plain": [
       "                  MP        SR     Brent    PR       GDP\n",
       "2013-02-01  7.067000  6.017500 114.14375  8.25 101.44463\n",
       "2013-03-01  7.068000  6.216842 108.47690  8.25 101.47443\n",
       "2013-04-01  7.201364  5.821818 102.24818  8.25 101.48869\n",
       "2013-05-01  7.160000  5.838889 102.58380  8.25 101.48714\n",
       "2013-06-01  7.052105  6.528947 102.91950  8.25 101.47436\n",
       "2013-07-01  7.005217  6.292174 107.88348  8.25 101.46044\n",
       "2013-08-01  6.856818  6.242727 111.28045  8.25 101.45560\n",
       "2013-09-01  6.792857  6.373810 111.78762  8.25 101.46502\n",
       "2013-10-01  6.797826  6.375652 109.07652  5.50 101.48339\n",
       "2013-11-01  6.863500  6.552500 107.95405  5.50 101.50155\n",
       "2013-12-01  7.078636  6.555455 110.79545  5.50 101.51284\n",
       "2014-01-01  7.042941  6.729412 108.15370  5.50 101.51954\n",
       "2014-02-01  7.115500  7.338500 108.94362  5.50 101.52605\n",
       "2014-03-01  9.005000  8.834500 107.48095  5.50 101.53243\n",
       "2014-04-01  9.279091  8.900000 107.84659  7.00 101.52835\n",
       "2014-05-01  9.802105  9.040000 109.53909  7.50 101.49896\n",
       "2014-06-01  9.570000  8.542632 111.79524  7.50 101.43182\n",
       "2014-07-01  9.557391  8.830000 106.86130  7.50 101.32572\n",
       "2014-08-01 10.154762  9.334286 101.60810  8.00 101.18304\n",
       "2014-09-01 10.282273  8.631364  97.24352  8.00 101.00502\n",
       "2014-10-01 10.679565  8.864348  87.42522  8.00 100.78984\n",
       "2014-11-01 12.161667 10.359444  79.19800  8.00 100.53540\n",
       "2014-12-01 20.113043 13.933043  62.17674  9.50 100.24486\n",
       "2015-01-01 21.872667 14.374000  48.05580 17.00  99.93502\n",
       "2015-02-01 17.551579 12.542632  58.09550 17.00  99.62850\n",
       "2015-03-01 16.212857 12.335714  55.88545 15.00  99.34755\n",
       "2015-04-01 14.788182 11.333182  59.35182 14.00  99.10776\n",
       "2015-05-01 13.651111 11.068889  63.99583 14.00  98.91863\n",
       "2015-06-01 12.939048 10.941429  61.47773 12.50  98.78117\n",
       "2015-07-01 12.402174 10.306087  56.56130 11.50  98.68185\n",
       "2015-08-01 11.927619 10.715238  46.61393 11.50  98.60338\n",
       "2015-09-01 11.904091 11.340000  47.62318 11.00  98.53257\n",
       "2015-10-01 11.822727 10.886818  48.43000 11.00  98.46668\n",
       "2015-11-01 11.787000 10.166000  44.26762 11.00  98.40859\n",
       "2015-12-01 11.850870 10.005217  37.96978 11.00  98.36151\n",
       "2016-01-01 11.910000  9.973333  30.97702 11.00  98.32315\n",
       "2016-02-01 11.961000  9.926500  32.13798 11.00  98.28955\n",
       "2016-03-01 11.828571  9.559048  38.21565 11.00  98.25817\n",
       "2016-04-01 11.663810  9.440476  41.58333 11.00  98.23057\n",
       "2016-05-01 11.415789  9.454737  46.85489 11.00  98.21161\n",
       "2016-06-01 11.183810  9.076667  48.24727 11.00  98.20827\n",
       "2016-07-01 10.950952  8.906667  44.95190 10.50  98.22777\n",
       "2016-08-01 10.885652  8.995217  45.84304 10.50  98.27552\n",
       "2016-09-01 10.623182  8.835455  46.56773 10.50  98.35135\n",
       "2016-10-01 10.573333  8.799048  49.52238 10.00  98.44351\n",
       "2016-11-01 10.590952  8.930000  44.73409 10.00  98.53751\n",
       "2016-12-01 10.595909  8.383182  53.42991 10.00  98.62379\n",
       "2017-01-01 10.531176  8.082353  54.59716 10.00  98.70492\n",
       "2017-02-01 10.487778  8.335556  54.86950 10.00  98.78886\n",
       "2017-03-01 10.361364  8.219545  51.58913 10.00  98.88234\n",
       "2017-04-01 10.045500  8.168000  52.44175  9.75  98.98387\n",
       "2017-05-01  9.517000  7.987000  50.32652  9.75  99.08754\n",
       "2017-06-01  9.261905  7.792381  46.36818  9.25  99.18608\n",
       "2017-07-01  9.212857  7.956190  48.47857  9.00  99.27365\n",
       "2017-08-01  9.166522  8.010870  51.70435  9.00  99.34872\n",
       "2017-09-01  8.870000  7.562857  56.15286  9.00  99.41766\n",
       "2017-10-01  8.595000  7.249545  57.50773  8.50  99.49905\n",
       "2017-11-01  8.363810  7.130476  62.71409  8.25  99.61286\n",
       "2017-12-01  8.132381  6.783333  64.49086  8.25  99.76854\n",
       "2018-01-01  7.787059  6.621765  68.97261  7.75  99.95068\n",
       "2018-02-01  7.481579  6.232632  65.31750  7.75 100.13324\n",
       "2018-03-01  7.364000  5.907000  66.15318  7.50 100.29182\n",
       "2018-04-01  7.367143  6.470476  71.95905  7.25 100.41598\n",
       "2018-05-01  7.397500  6.693500  76.77478  7.25 100.50440\n",
       "2018-06-01  7.435500  6.563500  74.40476  7.25 100.56246\n",
       "2018-07-01  7.436364  6.473636  74.25409  7.25 100.60233\n",
       "2018-08-01  7.586957  6.936957  72.52826  7.25 100.63758\n",
       "2018-09-01  7.910500  7.546500  78.89100  7.25 100.67908\n",
       "2018-10-01  8.253043  7.920870  81.03217  7.50 100.73122\n",
       "2018-11-01  8.383333  8.096667  64.74818  7.50 100.79790\n",
       "2018-12-01  8.550952  8.287143  56.32067  7.50 100.88772\n",
       "2019-01-01  8.587059  8.154118  59.14661  7.75 101.01808\n",
       "2019-02-01  8.617500  7.871500  63.96050  7.75 101.20095\n",
       "2019-03-01  8.454000  7.618500  66.13857  7.75 101.42544\n",
       "2019-04-01  8.307273  7.579091  71.20955  7.75 101.63648\n",
       "2019-05-01  8.223889  7.515556  71.24467  7.75 101.76607\n",
       "2019-06-01  8.118947  7.154211  64.22050  7.75 101.76577\n",
       "2019-07-01  7.885652  6.925652  63.91913  7.50 101.64511\n",
       "2019-08-01  7.613636  6.868636  59.04182  7.25 101.44085\n",
       "2019-09-01  7.300952  6.605714  62.82667  7.25 101.19445\n",
       "2019-10-01  7.098696  6.242609  59.71304  7.00 100.93577\n",
       "2019-11-01  6.797500  6.015000  63.21190  6.50 100.68307\n",
       "2019-12-01  6.597727  5.938182  67.31000  6.50 100.44399\n",
       "2020-01-01  6.452353  5.701176  63.80913  6.25 100.21616\n",
       "2020-02-01  6.313158  5.658421  55.65700  6.25  99.99311\n",
       "2020-03-01  6.509474  6.422632  32.01136  6.00  99.76925\n",
       "2020-04-01  6.440000  5.526842  18.61545  6.00  96.89318\n",
       "2020-05-01  5.921176  4.434118  29.36512  5.50  95.42261\n",
       "2020-06-01  5.298500  4.234000  40.26682  5.50  96.08381\n",
       "2020-07-01  4.731818  4.171364  43.24217  4.50  96.74090\n",
       "2020-08-01  4.613333  4.271429  44.77690  4.25  97.39927\n",
       "2020-09-01  4.640909  4.364091  40.90955  4.25  97.65961\n",
       "2020-10-01  4.645000  4.271364  40.18955  4.25  97.93190\n",
       "2020-11-01  4.745500  4.177500  42.69238  4.25  98.22015\n",
       "2020-12-01  4.927826  4.365652  50.03217  4.25  98.50180\n",
       "2021-01-01  4.888000  4.563333  54.59464  4.25  98.79774\n",
       "2021-02-01  4.854211  4.713158  62.27650  4.25  99.09547\n",
       "2021-03-01  4.981364  5.443636  65.41000  4.25 100.07336\n",
       "2021-04-01  5.421818  6.032273  64.61136  4.50 100.88146\n",
       "2021-05-01  5.714737  6.252105  68.60131  5.00 101.51078"
      ]
     },
     "metadata": {},
     "output_type": "display_data"
    },
    {
     "data": {
      "text/plain": [
       "                 MP       SR    Brent   PR      GDP\n",
       "2013-02-01 7.067000 6.017500 114.1437 8.25 101.4446\n",
       "2013-03-01 7.068000 6.216842 108.4769 8.25 101.4744\n",
       "2013-04-01 7.201364 5.821818 102.2482 8.25 101.4887\n",
       "2013-05-01 7.160000 5.838889 102.5838 8.25 101.4871\n",
       "2013-06-01 7.052105 6.528947 102.9195 8.25 101.4744\n",
       "2013-07-01 7.005217 6.292174 107.8835 8.25 101.4604"
      ]
     },
     "metadata": {},
     "output_type": "display_data"
    }
   ],
   "source": [
    "# Merging our series for future VARs\n",
    "\n",
    "st <- as.Date(\"2013-02-1\")\n",
    "en <- as.Date(\"2021-05-1\")\n",
    "dates <- seq(st, en, by = \"month\")\n",
    "\n",
    "mp_monthly <- mp_monthly[\"2013-02/2021-05\"]\n",
    "mp_monthly <- xts(mp_monthly, order.by = dates)\n",
    "head(mp_monthly)\n",
    "\n",
    "sr_monthly <- sr_monthly[\"2013-02/2021-05\"]\n",
    "brent_monthly <- brent_monthly[\"2013-02/2021-05\"]\n",
    "pr_monthly <- pr_monthly[\"2013-02/2021-05\"]\n",
    "\n",
    "sr_monthly <- xts(sr_monthly, order.by = dates)\n",
    "brent_monthly <- xts(brent_monthly, order.by = dates)\n",
    "pr_monthly <- xts(pr_monthly, order.by = dates)\n",
    "gdp_monthly <- xts(gdp, order.by = dates)\n",
    "\n",
    "data <- merge(mp_monthly, sr_monthly, brent_monthly, pr_monthly, gdp_monthly)\n",
    "names(data) = c(\"MP\", \"SR\", \"Brent\", \"PR\", \"GDP\")\n",
    "\n",
    "na.approx(data)\n",
    "\n",
    "head(data)"
   ]
  },
  {
   "cell_type": "markdown",
   "metadata": {},
   "source": [
    "## Analysis"
   ]
  },
  {
   "cell_type": "markdown",
   "metadata": {},
   "source": [
    "At first, we need to make our data stationary. Let's run a simple loop over our series."
   ]
  },
  {
   "cell_type": "code",
   "execution_count": 39,
   "metadata": {},
   "outputs": [],
   "source": [
    "for (i in 1:5){\n",
    "data[,i] = 400 * Delt(data[,i], typ = \"log\")\n",
    "    }\n",
    "data <- na.omit(data)"
   ]
  },
  {
   "cell_type": "markdown",
   "metadata": {},
   "source": [
    "# The Study Itself:"
   ]
  },
  {
   "cell_type": "markdown",
   "metadata": {},
   "source": [
    "**The plan of our study is the following:**\n",
    "\n",
    "* Select the order of our VAR model.\n",
    "* Estimate VAR and see what we can build on.\n",
    "* Test our VAR.\n",
    "* Select a proper structural model and estimate it.\n",
    "* Draw conclusions."
   ]
  },
  {
   "cell_type": "code",
   "execution_count": 45,
   "metadata": {},
   "outputs": [
    {
     "data": {
      "text/html": [
       "<dl>\n",
       "\t<dt>$selection</dt>\n",
       "\t\t<dd><dl class=dl-horizontal>\n",
       "\t<dt>AIC(n)</dt>\n",
       "\t\t<dd>10</dd>\n",
       "\t<dt>HQ(n)</dt>\n",
       "\t\t<dd>1</dd>\n",
       "\t<dt>SC(n)</dt>\n",
       "\t\t<dd>1</dd>\n",
       "\t<dt>FPE(n)</dt>\n",
       "\t\t<dd>2</dd>\n",
       "</dl>\n",
       "</dd>\n",
       "\t<dt>$criteria</dt>\n",
       "\t\t<dd><table>\n",
       "<thead><tr><th></th><th scope=col>1</th><th scope=col>2</th><th scope=col>3</th><th scope=col>4</th><th scope=col>5</th><th scope=col>6</th><th scope=col>7</th><th scope=col>8</th><th scope=col>9</th><th scope=col>10</th></tr></thead>\n",
       "<tbody>\n",
       "\t<tr><th scope=row>AIC(n)</th><td>2.473077e+01</td><td>2.464757e+01</td><td>2.465780e+01</td><td>2.474996e+01</td><td>2.497472e+01</td><td>2.495312e+01</td><td>2.515823e+01</td><td>2.516554e+01</td><td>2.513581e+01</td><td>2.451772e+01</td></tr>\n",
       "\t<tr><th scope=row>HQ(n)</th><td>2.506889e+01</td><td>2.526746e+01</td><td>2.555946e+01</td><td>2.593339e+01</td><td>2.643991e+01</td><td>2.670009e+01</td><td>2.718697e+01</td><td>2.747605e+01</td><td>2.772808e+01</td><td>2.739177e+01</td></tr>\n",
       "\t<tr><th scope=row>SC(n)</th><td>2.556964e+01</td><td>2.618549e+01</td><td>2.689478e+01</td><td>2.768599e+01</td><td>2.860980e+01</td><td>2.928727e+01</td><td>3.019143e+01</td><td>3.089779e+01</td><td>3.156711e+01</td><td>3.164808e+01</td></tr>\n",
       "\t<tr><th scope=row>FPE(n)</th><td>5.506576e+10</td><td>5.094018e+10</td><td>5.215851e+10</td><td>5.867441e+10</td><td>7.663763e+10</td><td>7.999426e+10</td><td>1.077839e+11</td><td>1.236185e+11</td><td>1.432189e+11</td><td>9.794431e+10</td></tr>\n",
       "</tbody>\n",
       "</table>\n",
       "</dd>\n",
       "</dl>\n"
      ],
      "text/latex": [
       "\\begin{description}\n",
       "\\item[\\$selection] \\begin{description*}\n",
       "\\item[AIC(n)] 10\n",
       "\\item[HQ(n)] 1\n",
       "\\item[SC(n)] 1\n",
       "\\item[FPE(n)] 2\n",
       "\\end{description*}\n",
       "\n",
       "\\item[\\$criteria] \\begin{tabular}{r|llllllllll}\n",
       "  & 1 & 2 & 3 & 4 & 5 & 6 & 7 & 8 & 9 & 10\\\\\n",
       "\\hline\n",
       "\tAIC(n) & 2.473077e+01 & 2.464757e+01 & 2.465780e+01 & 2.474996e+01 & 2.497472e+01 & 2.495312e+01 & 2.515823e+01 & 2.516554e+01 & 2.513581e+01 & 2.451772e+01\\\\\n",
       "\tHQ(n) & 2.506889e+01 & 2.526746e+01 & 2.555946e+01 & 2.593339e+01 & 2.643991e+01 & 2.670009e+01 & 2.718697e+01 & 2.747605e+01 & 2.772808e+01 & 2.739177e+01\\\\\n",
       "\tSC(n) & 2.556964e+01 & 2.618549e+01 & 2.689478e+01 & 2.768599e+01 & 2.860980e+01 & 2.928727e+01 & 3.019143e+01 & 3.089779e+01 & 3.156711e+01 & 3.164808e+01\\\\\n",
       "\tFPE(n) & 5.506576e+10 & 5.094018e+10 & 5.215851e+10 & 5.867441e+10 & 7.663763e+10 & 7.999426e+10 & 1.077839e+11 & 1.236185e+11 & 1.432189e+11 & 9.794431e+10\\\\\n",
       "\\end{tabular}\n",
       "\n",
       "\\end{description}\n"
      ],
      "text/markdown": [
       "$selection\n",
       ":   AIC(n)\n",
       ":   10HQ(n)\n",
       ":   1SC(n)\n",
       ":   1FPE(n)\n",
       ":   2\n",
       "\n",
       "\n",
       "$criteria\n",
       ":   \n",
       "| <!--/--> | 1 | 2 | 3 | 4 | 5 | 6 | 7 | 8 | 9 | 10 |\n",
       "|---|---|---|---|---|---|---|---|---|---|---|\n",
       "| AIC(n) | 2.473077e+01 | 2.464757e+01 | 2.465780e+01 | 2.474996e+01 | 2.497472e+01 | 2.495312e+01 | 2.515823e+01 | 2.516554e+01 | 2.513581e+01 | 2.451772e+01 |\n",
       "| HQ(n) | 2.506889e+01 | 2.526746e+01 | 2.555946e+01 | 2.593339e+01 | 2.643991e+01 | 2.670009e+01 | 2.718697e+01 | 2.747605e+01 | 2.772808e+01 | 2.739177e+01 |\n",
       "| SC(n) | 2.556964e+01 | 2.618549e+01 | 2.689478e+01 | 2.768599e+01 | 2.860980e+01 | 2.928727e+01 | 3.019143e+01 | 3.089779e+01 | 3.156711e+01 | 3.164808e+01 |\n",
       "| FPE(n) | 5.506576e+10 | 5.094018e+10 | 5.215851e+10 | 5.867441e+10 | 7.663763e+10 | 7.999426e+10 | 1.077839e+11 | 1.236185e+11 | 1.432189e+11 | 9.794431e+10 |\n",
       "\n",
       "\n",
       "\n",
       "\n"
      ],
      "text/plain": [
       "$selection\n",
       "AIC(n)  HQ(n)  SC(n) FPE(n) \n",
       "    10      1      1      2 \n",
       "\n",
       "$criteria\n",
       "                  1            2            3            4            5\n",
       "AIC(n) 2.473077e+01 2.464757e+01 2.465780e+01 2.474996e+01 2.497472e+01\n",
       "HQ(n)  2.506889e+01 2.526746e+01 2.555946e+01 2.593339e+01 2.643991e+01\n",
       "SC(n)  2.556964e+01 2.618549e+01 2.689478e+01 2.768599e+01 2.860980e+01\n",
       "FPE(n) 5.506576e+10 5.094018e+10 5.215851e+10 5.867441e+10 7.663763e+10\n",
       "                  6            7            8            9           10\n",
       "AIC(n) 2.495312e+01 2.515823e+01 2.516554e+01 2.513581e+01 2.451772e+01\n",
       "HQ(n)  2.670009e+01 2.718697e+01 2.747605e+01 2.772808e+01 2.739177e+01\n",
       "SC(n)  2.928727e+01 3.019143e+01 3.089779e+01 3.156711e+01 3.164808e+01\n",
       "FPE(n) 7.999426e+10 1.077839e+11 1.236185e+11 1.432189e+11 9.794431e+10\n"
      ]
     },
     "metadata": {},
     "output_type": "display_data"
    }
   ],
   "source": [
    "VARselect(data)"
   ]
  },
  {
   "cell_type": "code",
   "execution_count": 46,
   "metadata": {},
   "outputs": [
    {
     "data": {
      "text/plain": [
       "\n",
       "VAR Estimation Results:\n",
       "========================= \n",
       "Endogenous variables: MP, SR, Brent, PR, GDP \n",
       "Deterministic variables: const \n",
       "Sample size: 98 \n",
       "Log Likelihood: -1918.436 \n",
       "Roots of the characteristic polynomial:\n",
       "0.597 0.597 0.4048 0.4048 0.09093\n",
       "Call:\n",
       "VAR(y = data, p = 1)\n",
       "\n",
       "\n",
       "Estimation results for equation MP: \n",
       "=================================== \n",
       "MP = MP.l1 + SR.l1 + Brent.l1 + PR.l1 + GDP.l1 + const \n",
       "\n",
       "         Estimate Std. Error t value Pr(>|t|)   \n",
       "MP.l1     0.17131    0.14564   1.176   0.2425   \n",
       "SR.l1     0.49887    0.16641   2.998   0.0035 **\n",
       "Brent.l1  0.01785    0.05676   0.314   0.7539   \n",
       "PR.l1    -0.20094    0.07748  -2.593   0.0111 * \n",
       "GDP.l1   -0.57454    1.97060  -0.292   0.7713   \n",
       "const    -1.15588    2.45975  -0.470   0.6395   \n",
       "---\n",
       "Signif. codes:  0 '***' 0.001 '**' 0.01 '*' 0.05 '.' 0.1 ' ' 1\n",
       "\n",
       "\n",
       "Residual standard error: 24.22 on 92 degrees of freedom\n",
       "Multiple R-Squared: 0.3189,\tAdjusted R-squared: 0.2819 \n",
       "F-statistic: 8.616 on 5 and 92 DF,  p-value: 9.995e-07 \n",
       "\n",
       "\n",
       "Estimation results for equation SR: \n",
       "=================================== \n",
       "SR = MP.l1 + SR.l1 + Brent.l1 + PR.l1 + GDP.l1 + const \n",
       "\n",
       "         Estimate Std. Error t value Pr(>|t|)  \n",
       "MP.l1     0.06933    0.14298   0.485   0.6289  \n",
       "SR.l1     0.33255    0.16337   2.035   0.0447 *\n",
       "Brent.l1  0.10888    0.05573   1.954   0.0537 .\n",
       "PR.l1    -0.12679    0.07607  -1.667   0.0990 .\n",
       "GDP.l1    2.49228    1.93465   1.288   0.2009  \n",
       "const     0.09061    2.41487   0.038   0.9702  \n",
       "---\n",
       "Signif. codes:  0 '***' 0.001 '**' 0.01 '*' 0.05 '.' 0.1 ' ' 1\n",
       "\n",
       "\n",
       "Residual standard error: 23.77 on 92 degrees of freedom\n",
       "Multiple R-Squared: 0.2391,\tAdjusted R-squared: 0.1978 \n",
       "F-statistic: 5.783 on 5 and 92 DF,  p-value: 0.0001095 \n",
       "\n",
       "\n",
       "Estimation results for equation Brent: \n",
       "====================================== \n",
       "Brent = MP.l1 + SR.l1 + Brent.l1 + PR.l1 + GDP.l1 + const \n",
       "\n",
       "         Estimate Std. Error t value Pr(>|t|)    \n",
       "MP.l1    -0.05981    0.27588  -0.217 0.828842    \n",
       "SR.l1    -0.27407    0.31523  -0.869 0.386882    \n",
       "Brent.l1  0.38637    0.10752   3.593 0.000527 ***\n",
       "PR.l1     0.24911    0.14677   1.697 0.093027 .  \n",
       "GDP.l1   -9.53268    3.73287  -2.554 0.012303 *  \n",
       "const    -0.63514    4.65947  -0.136 0.891872    \n",
       "---\n",
       "Signif. codes:  0 '***' 0.001 '**' 0.01 '*' 0.05 '.' 0.1 ' ' 1\n",
       "\n",
       "\n",
       "Residual standard error: 45.87 on 92 degrees of freedom\n",
       "Multiple R-Squared: 0.2501,\tAdjusted R-squared: 0.2094 \n",
       "F-statistic: 6.138 on 5 and 92 DF,  p-value: 5.96e-05 \n",
       "\n",
       "\n",
       "Estimation results for equation PR: \n",
       "=================================== \n",
       "PR = MP.l1 + SR.l1 + Brent.l1 + PR.l1 + GDP.l1 + const \n",
       "\n",
       "         Estimate Std. Error t value Pr(>|t|)    \n",
       "MP.l1     1.08751    0.12383   8.782 8.33e-14 ***\n",
       "SR.l1    -0.01252    0.14150  -0.088    0.930    \n",
       "Brent.l1  0.06965    0.04826   1.443    0.152    \n",
       "PR.l1    -0.10242    0.06588  -1.555    0.123    \n",
       "GDP.l1   -0.27193    1.67557  -0.162    0.871    \n",
       "const    -0.96532    2.09148  -0.462    0.645    \n",
       "---\n",
       "Signif. codes:  0 '***' 0.001 '**' 0.01 '*' 0.05 '.' 0.1 ' ' 1\n",
       "\n",
       "\n",
       "Residual standard error: 20.59 on 92 degrees of freedom\n",
       "Multiple R-Squared: 0.6697,\tAdjusted R-squared: 0.6518 \n",
       "F-statistic: 37.31 on 5 and 92 DF,  p-value: < 2.2e-16 \n",
       "\n",
       "\n",
       "Estimation results for equation GDP: \n",
       "==================================== \n",
       "GDP = MP.l1 + SR.l1 + Brent.l1 + PR.l1 + GDP.l1 + const \n",
       "\n",
       "          Estimate Std. Error t value Pr(>|t|)    \n",
       "MP.l1     0.015610   0.006293   2.481   0.0149 *  \n",
       "SR.l1    -0.016481   0.007190  -2.292   0.0242 *  \n",
       "Brent.l1  0.018109   0.002453   7.383 6.76e-11 ***\n",
       "PR.l1     0.000800   0.003348   0.239   0.8117    \n",
       "GDP.l1    0.446128   0.085148   5.239 1.02e-06 ***\n",
       "const     0.072689   0.106284   0.684   0.4957    \n",
       "---\n",
       "Signif. codes:  0 '***' 0.001 '**' 0.01 '*' 0.05 '.' 0.1 ' ' 1\n",
       "\n",
       "\n",
       "Residual standard error: 1.046 on 92 degrees of freedom\n",
       "Multiple R-Squared: 0.6155,\tAdjusted R-squared: 0.5946 \n",
       "F-statistic: 29.45 on 5 and 92 DF,  p-value: < 2.2e-16 \n",
       "\n",
       "\n",
       "\n",
       "Covariance matrix of residuals:\n",
       "            MP       SR   Brent       PR     GDP\n",
       "MP     586.414  417.046 -228.94  37.3614  2.1950\n",
       "SR     417.046  565.210 -226.49  38.4241  6.8348\n",
       "Brent -228.939 -226.489 2104.23 -65.8049 20.8625\n",
       "PR      37.361   38.424  -65.80 423.9651  0.1129\n",
       "GDP      2.195    6.835   20.86   0.1129  1.0948\n",
       "\n",
       "Correlation matrix of residuals:\n",
       "            MP       SR    Brent        PR      GDP\n",
       "MP     1.00000  0.72440 -0.20610  0.074930 0.086626\n",
       "SR     0.72440  1.00000 -0.20768  0.078494 0.274755\n",
       "Brent -0.20610 -0.20768  1.00000 -0.069670 0.434653\n",
       "PR     0.07493  0.07849 -0.06967  1.000000 0.005241\n",
       "GDP    0.08663  0.27476  0.43465  0.005241 1.000000\n",
       "\n"
      ]
     },
     "metadata": {},
     "output_type": "display_data"
    }
   ],
   "source": [
    "data_var <- VAR(data, p = 1)\n",
    "summary(data_var)"
   ]
  },
  {
   "cell_type": "markdown",
   "metadata": {},
   "source": [
    "## Impulse Response Functions"
   ]
  },
  {
   "cell_type": "code",
   "execution_count": 47,
   "metadata": {},
   "outputs": [
    {
     "data": {
      "image/png": "[encoded data removed]",
      "text/plain": [
       "plot without title"
      ]
     },
     "metadata": {},
     "output_type": "display_data"
    }
   ],
   "source": [
    "plot(irf(data_var, impulse = \"GDP\", boot = 500, ortho = F))"
   ]
  },
  {
   "cell_type": "code",
   "execution_count": 460,
   "metadata": {},
   "outputs": [
    {
     "data": {
      "image/png": "[encoded data removed]",
      "text/plain": [
       "plot without title"
      ]
     },
     "metadata": {},
     "output_type": "display_data"
    }
   ],
   "source": [
    "plot(irf(data_var, impulse = \"SR\", boot = 500, ortho = F))"
   ]
  },
  {
   "cell_type": "markdown",
   "metadata": {},
   "source": [
    "## Testing our VAR model:\n",
    "\n",
    "### Heteroscedasticity test"
   ]
  },
  {
   "cell_type": "code",
   "execution_count": 56,
   "metadata": {},
   "outputs": [
    {
     "data": {
      "text/plain": [
       "\n",
       "\tARCH (multivariate)\n",
       "\n",
       "data:  Residuals of VAR object data_var\n",
       "Chi-squared = 1290, df = 2700, p-value = 1\n",
       "\n",
       "$arch.mul\n",
       "\n",
       "\tARCH (multivariate)\n",
       "\n",
       "data:  Residuals of VAR object data_var\n",
       "Chi-squared = 1290, df = 2700, p-value = 1\n",
       "\n"
      ]
     },
     "metadata": {},
     "output_type": "display_data"
    }
   ],
   "source": [
    "Arch1 <- arch.test(data_var, lags.multi = 12, multivariate.only = TRUE)\n",
    "Arch1"
   ]
  },
  {
   "cell_type": "markdown",
   "metadata": {},
   "source": [
    "Test suggests **H0** (no time-varying dispersion of data) **holds**, which is great!"
   ]
  },
  {
   "cell_type": "markdown",
   "metadata": {},
   "source": [
    "### Test for serial correlation\n",
    "\n",
    "**Portmaneau test (Ljuing-Box Test)**\n",
    "\n",
    "**H0:** The data are independently distributed. $\\rho_1 = \\rho_2 = ... = \\rho_m =0$\n",
    "\n",
    "**Ha:** The data are not independently distributed. They exhibit serial serial correlation. Some $\\rho_k \\neq 0$"
   ]
  },
  {
   "cell_type": "code",
   "execution_count": 57,
   "metadata": {},
   "outputs": [
    {
     "data": {
      "text/plain": [
       "\n",
       "\tPortmanteau Test (asymptotic)\n",
       "\n",
       "data:  Residuals of VAR object data_var\n",
       "Chi-squared = 230.51, df = 275, p-value = 0.9762\n",
       "\n",
       "$serial\n",
       "\n",
       "\tPortmanteau Test (asymptotic)\n",
       "\n",
       "data:  Residuals of VAR object data_var\n",
       "Chi-squared = 230.51, df = 275, p-value = 0.9762\n",
       "\n"
      ]
     },
     "metadata": {},
     "output_type": "display_data"
    }
   ],
   "source": [
    "Serial <- serial.test(data_var, lags.pt = 12, type = \"PT.asymptotic\")\n",
    "Serial"
   ]
  },
  {
   "cell_type": "markdown",
   "metadata": {},
   "source": [
    "The test suggest our **H0 holds**, which is also great!"
   ]
  },
  {
   "cell_type": "markdown",
   "metadata": {},
   "source": [
    "### Test for residuals normality:\n",
    "\n",
    "Jarque-Bera test (goodness-of-fit)\n",
    "\n",
    "**H0:** The data (the residuals of the model) is nornally distributed\n",
    "\n",
    "**Ha:** The data is not normally distributed"
   ]
  },
  {
   "cell_type": "code",
   "execution_count": 58,
   "metadata": {},
   "outputs": [
    {
     "data": {
      "text/plain": [
       "$JB\n",
       "\n",
       "\tJB-Test (multivariate)\n",
       "\n",
       "data:  Residuals of VAR object data_var\n",
       "Chi-squared = 8767.8, df = 10, p-value < 2.2e-16\n",
       "\n",
       "\n",
       "$Skewness\n",
       "\n",
       "\tSkewness only (multivariate)\n",
       "\n",
       "data:  Residuals of VAR object data_var\n",
       "Chi-squared = 651.35, df = 5, p-value < 2.2e-16\n",
       "\n",
       "\n",
       "$Kurtosis\n",
       "\n",
       "\tKurtosis only (multivariate)\n",
       "\n",
       "data:  Residuals of VAR object data_var\n",
       "Chi-squared = 8116.4, df = 5, p-value < 2.2e-16\n",
       "\n",
       "\n",
       "$jb.mul\n",
       "$jb.mul$JB\n",
       "\n",
       "\tJB-Test (multivariate)\n",
       "\n",
       "data:  Residuals of VAR object data_var\n",
       "Chi-squared = 8767.8, df = 10, p-value < 2.2e-16\n",
       "\n",
       "\n",
       "$jb.mul$Skewness\n",
       "\n",
       "\tSkewness only (multivariate)\n",
       "\n",
       "data:  Residuals of VAR object data_var\n",
       "Chi-squared = 651.35, df = 5, p-value < 2.2e-16\n",
       "\n",
       "\n",
       "$jb.mul$Kurtosis\n",
       "\n",
       "\tKurtosis only (multivariate)\n",
       "\n",
       "data:  Residuals of VAR object data_var\n",
       "Chi-squared = 8116.4, df = 5, p-value < 2.2e-16\n",
       "\n",
       "\n"
      ]
     },
     "metadata": {},
     "output_type": "display_data"
    }
   ],
   "source": [
    "Norm <- normality.test(data_var, multivariate.only = TRUE)\n",
    "Norm"
   ]
  },
  {
   "cell_type": "markdown",
   "metadata": {},
   "source": [
    "**HO is rejected!** That's a bad feature of the model, that we can't challenge in our study :("
   ]
  },
  {
   "cell_type": "markdown",
   "metadata": {},
   "source": [
    "### Testing for structural breaks in the residuals\n",
    "\n",
    "Is the system of difference equations stable?"
   ]
  },
  {
   "cell_type": "code",
   "execution_count": 59,
   "metadata": {},
   "outputs": [
    {
     "data": {
      "image/png": "[encoded data removed]",
      "text/plain": [
       "Plot with title \"OLS-CUSUM of equation GDP\""
      ]
     },
     "metadata": {},
     "output_type": "display_data"
    }
   ],
   "source": [
    "stability <- stability(data_var, type = \"OLS-CUSUM\")\n",
    "plot(stability)"
   ]
  },
  {
   "cell_type": "markdown",
   "metadata": {},
   "source": [
    "We can conclude, that the system is stable, which is great!"
   ]
  },
  {
   "cell_type": "markdown",
   "metadata": {},
   "source": [
    "## Granger causality:"
   ]
  },
  {
   "cell_type": "code",
   "execution_count": 62,
   "metadata": {},
   "outputs": [],
   "source": [
    "library(lmtest)"
   ]
  },
  {
   "cell_type": "code",
   "execution_count": 64,
   "metadata": {},
   "outputs": [
    {
     "data": {
      "text/html": [
       "<table>\n",
       "<thead><tr><th scope=col>Res.Df</th><th scope=col>Df</th><th scope=col>F</th><th scope=col>Pr(&gt;F)</th></tr></thead>\n",
       "<tbody>\n",
       "\t<tr><td>89        </td><td>NA        </td><td>    NA    </td><td>        NA</td></tr>\n",
       "\t<tr><td>92        </td><td>-3        </td><td>3.3413    </td><td>0.02279336</td></tr>\n",
       "</tbody>\n",
       "</table>\n"
      ],
      "text/latex": [
       "\\begin{tabular}{r|llll}\n",
       " Res.Df & Df & F & Pr(>F)\\\\\n",
       "\\hline\n",
       "\t 89         & NA         &     NA     &         NA\\\\\n",
       "\t 92         & -3         & 3.3413     & 0.02279336\\\\\n",
       "\\end{tabular}\n"
      ],
      "text/markdown": [
       "\n",
       "| Res.Df | Df | F | Pr(>F) |\n",
       "|---|---|---|---|\n",
       "| 89         | NA         |     NA     |         NA |\n",
       "| 92         | -3         | 3.3413     | 0.02279336 |\n",
       "\n"
      ],
      "text/plain": [
       "  Res.Df Df F      Pr(>F)    \n",
       "1 89     NA     NA         NA\n",
       "2 92     -3 3.3413 0.02279336"
      ]
     },
     "metadata": {},
     "output_type": "display_data"
    }
   ],
   "source": [
    "grangertest(MP ~ SR, order = 3, data = data)"
   ]
  },
  {
   "cell_type": "markdown",
   "metadata": {},
   "source": [
    "**H0 is rejected**. Swap Rate Granger-cause MosPrime Rate!"
   ]
  },
  {
   "cell_type": "code",
   "execution_count": 65,
   "metadata": {},
   "outputs": [
    {
     "data": {
      "text/html": [
       "<table>\n",
       "<thead><tr><th scope=col>Res.Df</th><th scope=col>Df</th><th scope=col>F</th><th scope=col>Pr(&gt;F)</th></tr></thead>\n",
       "<tbody>\n",
       "\t<tr><td>89       </td><td>NA       </td><td>      NA </td><td>       NA</td></tr>\n",
       "\t<tr><td>92       </td><td>-3       </td><td>1.223859 </td><td>0.3057878</td></tr>\n",
       "</tbody>\n",
       "</table>\n"
      ],
      "text/latex": [
       "\\begin{tabular}{r|llll}\n",
       " Res.Df & Df & F & Pr(>F)\\\\\n",
       "\\hline\n",
       "\t 89        & NA        &       NA  &        NA\\\\\n",
       "\t 92        & -3        & 1.223859  & 0.3057878\\\\\n",
       "\\end{tabular}\n"
      ],
      "text/markdown": [
       "\n",
       "| Res.Df | Df | F | Pr(>F) |\n",
       "|---|---|---|---|\n",
       "| 89        | NA        |       NA  |        NA |\n",
       "| 92        | -3        | 1.223859  | 0.3057878 |\n",
       "\n"
      ],
      "text/plain": [
       "  Res.Df Df F        Pr(>F)   \n",
       "1 89     NA       NA        NA\n",
       "2 92     -3 1.223859 0.3057878"
      ]
     },
     "metadata": {},
     "output_type": "display_data"
    }
   ],
   "source": [
    "grangertest(MP ~ Brent, order = 3, data = data)"
   ]
  },
  {
   "cell_type": "markdown",
   "metadata": {},
   "source": [
    "**H0 holds**. Oil prices do not Granger-cause MosPrime Rate!"
   ]
  },
  {
   "cell_type": "code",
   "execution_count": 66,
   "metadata": {},
   "outputs": [
    {
     "data": {
      "text/html": [
       "<table>\n",
       "<thead><tr><th scope=col>Res.Df</th><th scope=col>Df</th><th scope=col>F</th><th scope=col>Pr(&gt;F)</th></tr></thead>\n",
       "<tbody>\n",
       "\t<tr><td>89       </td><td>NA       </td><td>      NA </td><td>       NA</td></tr>\n",
       "\t<tr><td>92       </td><td>-3       </td><td>1.418119 </td><td>0.2427779</td></tr>\n",
       "</tbody>\n",
       "</table>\n"
      ],
      "text/latex": [
       "\\begin{tabular}{r|llll}\n",
       " Res.Df & Df & F & Pr(>F)\\\\\n",
       "\\hline\n",
       "\t 89        & NA        &       NA  &        NA\\\\\n",
       "\t 92        & -3        & 1.418119  & 0.2427779\\\\\n",
       "\\end{tabular}\n"
      ],
      "text/markdown": [
       "\n",
       "| Res.Df | Df | F | Pr(>F) |\n",
       "|---|---|---|---|\n",
       "| 89        | NA        |       NA  |        NA |\n",
       "| 92        | -3        | 1.418119  | 0.2427779 |\n",
       "\n"
      ],
      "text/plain": [
       "  Res.Df Df F        Pr(>F)   \n",
       "1 89     NA       NA        NA\n",
       "2 92     -3 1.418119 0.2427779"
      ]
     },
     "metadata": {},
     "output_type": "display_data"
    }
   ],
   "source": [
    "grangertest(MP ~ PR, order = 3, data = data)"
   ]
  },
  {
   "cell_type": "code",
   "execution_count": 67,
   "metadata": {},
   "outputs": [
    {
     "data": {
      "text/html": [
       "<table>\n",
       "<thead><tr><th scope=col>Res.Df</th><th scope=col>Df</th><th scope=col>F</th><th scope=col>Pr(&gt;F)</th></tr></thead>\n",
       "<tbody>\n",
       "\t<tr><td>89       </td><td>NA       </td><td>     NA  </td><td>       NA</td></tr>\n",
       "\t<tr><td>92       </td><td>-3       </td><td>1.23992  </td><td>0.3000532</td></tr>\n",
       "</tbody>\n",
       "</table>\n"
      ],
      "text/latex": [
       "\\begin{tabular}{r|llll}\n",
       " Res.Df & Df & F & Pr(>F)\\\\\n",
       "\\hline\n",
       "\t 89        & NA        &      NA   &        NA\\\\\n",
       "\t 92        & -3        & 1.23992   & 0.3000532\\\\\n",
       "\\end{tabular}\n"
      ],
      "text/markdown": [
       "\n",
       "| Res.Df | Df | F | Pr(>F) |\n",
       "|---|---|---|---|\n",
       "| 89        | NA        |      NA   |        NA |\n",
       "| 92        | -3        | 1.23992   | 0.3000532 |\n",
       "\n"
      ],
      "text/plain": [
       "  Res.Df Df F       Pr(>F)   \n",
       "1 89     NA      NA        NA\n",
       "2 92     -3 1.23992 0.3000532"
      ]
     },
     "metadata": {},
     "output_type": "display_data"
    }
   ],
   "source": [
    "grangertest(MP ~ GDP, order = 3, data = data)"
   ]
  },
  {
   "cell_type": "markdown",
   "metadata": {},
   "source": [
    "### Building SVAR Model\n",
    "\n",
    "Let's apply some theoretical foundations and constraint our VAR model!\n",
    "\n",
    "We have the following variables: MP, SR, Brent, PR, GDP"
   ]
  },
  {
   "cell_type": "code",
   "execution_count": 42,
   "metadata": {},
   "outputs": [
    {
     "data": {
      "text/html": [
       "<table>\n",
       "<tbody>\n",
       "\t<tr><td> 1</td><td>NA</td><td>NA</td><td>NA</td><td>NA</td></tr>\n",
       "\t<tr><td>NA</td><td> 1</td><td>NA</td><td>NA</td><td>NA</td></tr>\n",
       "\t<tr><td> 0</td><td> 0</td><td> 1</td><td> 0</td><td> 0</td></tr>\n",
       "\t<tr><td> 0</td><td> 0</td><td> 0</td><td> 1</td><td>NA</td></tr>\n",
       "\t<tr><td> 0</td><td> 0</td><td>NA</td><td>NA</td><td> 1</td></tr>\n",
       "</tbody>\n",
       "</table>\n"
      ],
      "text/latex": [
       "\\begin{tabular}{lllll}\n",
       "\t  1 & NA & NA & NA & NA\\\\\n",
       "\t NA &  1 & NA & NA & NA\\\\\n",
       "\t  0 &  0 &  1 &  0 &  0\\\\\n",
       "\t  0 &  0 &  0 &  1 & NA\\\\\n",
       "\t  0 &  0 & NA & NA &  1\\\\\n",
       "\\end{tabular}\n"
      ],
      "text/markdown": [
       "\n",
       "|  1 | NA | NA | NA | NA |\n",
       "| NA |  1 | NA | NA | NA |\n",
       "|  0 |  0 |  1 |  0 |  0 |\n",
       "|  0 |  0 |  0 |  1 | NA |\n",
       "|  0 |  0 | NA | NA |  1 |\n",
       "\n"
      ],
      "text/plain": [
       "     [,1] [,2] [,3] [,4] [,5]\n",
       "[1,]  1   NA   NA   NA   NA  \n",
       "[2,] NA    1   NA   NA   NA  \n",
       "[3,]  0    0    1    0    0  \n",
       "[4,]  0    0    0    1   NA  \n",
       "[5,]  0    0   NA   NA    1  "
      ]
     },
     "metadata": {},
     "output_type": "display_data"
    }
   ],
   "source": [
    "amat <- diag(5)\n",
    "\n",
    "amat[1,2] <- NA\n",
    "amat[1,3] <- NA\n",
    "amat[1,4] <- NA\n",
    "amat[1,5] <- NA\n",
    "\n",
    "amat[2,1] <- NA\n",
    "amat[2,3] <- NA\n",
    "amat[2,4] <- NA\n",
    "amat[2,5] <- NA\n",
    "\n",
    "amat[4,5] <- NA\n",
    "\n",
    "amat[5,3] <- NA\n",
    "amat[5,4] <- NA\n",
    "\n",
    "amat"
   ]
  },
  {
   "cell_type": "code",
   "execution_count": 48,
   "metadata": {},
   "outputs": [
    {
     "name": "stderr",
     "output_type": "stream",
     "text": [
      "Warning message in SVAR(data_var, Amat = amat, bmat = NULL, hessian = TRUE, estmethod = c(\"scoring\", :\n",
      "\"Convergence not achieved after 100 iterations. Convergence value: 1 .\""
     ]
    },
    {
     "data": {
      "text/plain": [
       "\n",
       "SVAR Estimation Results:\n",
       "======================== \n",
       "\n",
       "\n",
       "Estimated A matrix:\n",
       "           MP      SR    Brent        PR    GDP\n",
       "MP     1.0000 -0.3962 -0.28107 -0.037128 1.0358\n",
       "SR    -0.5217  1.0000  0.56765 -0.071274 1.8638\n",
       "Brent  0.0000  0.0000  1.00000  0.000000 0.0000\n",
       "PR     0.0000  0.0000  0.00000  1.000000 0.7477\n",
       "GDP    0.0000  0.0000 -0.01639 -0.001077 1.0000"
      ]
     },
     "metadata": {},
     "output_type": "display_data"
    }
   ],
   "source": [
    "SVAR_Mod <- SVAR(data_var, Amat = amat, bmat = NULL, hessian = TRUE, estmethod = c(\"scoring\", \"direct\"))\n",
    "SVAR_Mod"
   ]
  },
  {
   "cell_type": "code",
   "execution_count": 54,
   "metadata": {},
   "outputs": [
    {
     "name": "stderr",
     "output_type": "stream",
     "text": [
      "Warning message in SVAR(x = varboot, estmethod = c(\"scoring\", \"direct\"), Amat = amat, :\n",
      "\"Convergence not achieved after 100 iterations. Convergence value: 1 .\"Warning message in SVAR(x = varboot, estmethod = c(\"scoring\", \"direct\"), Amat = amat, :\n",
      "\"Convergence not achieved after 100 iterations. Convergence value: 1 .\"Warning message in SVAR(x = varboot, estmethod = c(\"scoring\", \"direct\"), Amat = amat, :\n",
      "\"Convergence not achieved after 100 iterations. Convergence value: 1 .\"Warning message in SVAR(x = varboot, estmethod = c(\"scoring\", \"direct\"), Amat = amat, :\n",
      "\"Convergence not achieved after 100 iterations. Convergence value: 1 .\"Warning message in SVAR(x = varboot, estmethod = c(\"scoring\", \"direct\"), Amat = amat, :\n",
      "\"Convergence not achieved after 100 iterations. Convergence value: 1 .\"Warning message in SVAR(x = varboot, estmethod = c(\"scoring\", \"direct\"), Amat = amat, :\n",
      "\"Convergence not achieved after 100 iterations. Convergence value: 1 .\"Warning message in SVAR(x = varboot, estmethod = c(\"scoring\", \"direct\"), Amat = amat, :\n",
      "\"Convergence not achieved after 100 iterations. Convergence value: 1 .\"Warning message in SVAR(x = varboot, estmethod = c(\"scoring\", \"direct\"), Amat = amat, :\n",
      "\"Convergence not achieved after 100 iterations. Convergence value: 1 .\"Warning message in SVAR(x = varboot, estmethod = c(\"scoring\", \"direct\"), Amat = amat, :\n",
      "\"Convergence not achieved after 100 iterations. Convergence value: 1 .\"Warning message in SVAR(x = varboot, estmethod = c(\"scoring\", \"direct\"), Amat = amat, :\n",
      "\"Convergence not achieved after 100 iterations. Convergence value: 1 .\"Warning message in SVAR(x = varboot, estmethod = c(\"scoring\", \"direct\"), Amat = amat, :\n",
      "\"Convergence not achieved after 100 iterations. Convergence value: 1 .\"Warning message in SVAR(x = varboot, estmethod = c(\"scoring\", \"direct\"), Amat = amat, :\n",
      "\"Convergence not achieved after 100 iterations. Convergence value: 1 .\"Warning message in SVAR(x = varboot, estmethod = c(\"scoring\", \"direct\"), Amat = amat, :\n",
      "\"Convergence not achieved after 100 iterations. Convergence value: 1 .\"Warning message in SVAR(x = varboot, estmethod = c(\"scoring\", \"direct\"), Amat = amat, :\n",
      "\"Convergence not achieved after 100 iterations. Convergence value: 1 .\"Warning message in SVAR(x = varboot, estmethod = c(\"scoring\", \"direct\"), Amat = amat, :\n",
      "\"Convergence not achieved after 100 iterations. Convergence value: 1 .\"Warning message in SVAR(x = varboot, estmethod = c(\"scoring\", \"direct\"), Amat = amat, :\n",
      "\"Convergence not achieved after 100 iterations. Convergence value: 1 .\"Warning message in SVAR(x = varboot, estmethod = c(\"scoring\", \"direct\"), Amat = amat, :\n",
      "\"Convergence not achieved after 100 iterations. Convergence value: 1 .\"Warning message in SVAR(x = varboot, estmethod = c(\"scoring\", \"direct\"), Amat = amat, :\n",
      "\"Convergence not achieved after 100 iterations. Convergence value: 1 .\"Warning message in SVAR(x = varboot, estmethod = c(\"scoring\", \"direct\"), Amat = amat, :\n",
      "\"Convergence not achieved after 100 iterations. Convergence value: 1 .\"Warning message in SVAR(x = varboot, estmethod = c(\"scoring\", \"direct\"), Amat = amat, :\n",
      "\"Convergence not achieved after 100 iterations. Convergence value: 1 .\"Warning message in SVAR(x = varboot, estmethod = c(\"scoring\", \"direct\"), Amat = amat, :\n",
      "\"Convergence not achieved after 100 iterations. Convergence value: 1 .\"Warning message in SVAR(x = varboot, estmethod = c(\"scoring\", \"direct\"), Amat = amat, :\n",
      "\"Convergence not achieved after 100 iterations. Convergence value: 1 .\"Warning message in SVAR(x = varboot, estmethod = c(\"scoring\", \"direct\"), Amat = amat, :\n",
      "\"Convergence not achieved after 100 iterations. Convergence value: 1 .\"Warning message in SVAR(x = varboot, estmethod = c(\"scoring\", \"direct\"), Amat = amat, :\n",
      "\"Convergence not achieved after 100 iterations. Convergence value: 1 .\"Warning message in SVAR(x = varboot, estmethod = c(\"scoring\", \"direct\"), Amat = amat, :\n",
      "\"Convergence not achieved after 100 iterations. Convergence value: 1 .\"Warning message in SVAR(x = varboot, estmethod = c(\"scoring\", \"direct\"), Amat = amat, :\n",
      "\"Convergence not achieved after 100 iterations. Convergence value: 1 .\"Warning message in SVAR(x = varboot, estmethod = c(\"scoring\", \"direct\"), Amat = amat, :\n",
      "\"Convergence not achieved after 100 iterations. Convergence value: 1 .\"Warning message in SVAR(x = varboot, estmethod = c(\"scoring\", \"direct\"), Amat = amat, :\n",
      "\"Convergence not achieved after 100 iterations. Convergence value: 1 .\"Warning message in SVAR(x = varboot, estmethod = c(\"scoring\", \"direct\"), Amat = amat, :\n",
      "\"Convergence not achieved after 100 iterations. Convergence value: 1 .\"Warning message in SVAR(x = varboot, estmethod = c(\"scoring\", \"direct\"), Amat = amat, :\n",
      "\"Convergence not achieved after 100 iterations. Convergence value: 1 .\"Warning message in SVAR(x = varboot, estmethod = c(\"scoring\", \"direct\"), Amat = amat, :\n",
      "\"Convergence not achieved after 100 iterations. Convergence value: 1 .\"Warning message in SVAR(x = varboot, estmethod = c(\"scoring\", \"direct\"), Amat = amat, :\n",
      "\"Convergence not achieved after 100 iterations. Convergence value: 1 .\"Warning message in SVAR(x = varboot, estmethod = c(\"scoring\", \"direct\"), Amat = amat, :\n",
      "\"Convergence not achieved after 100 iterations. Convergence value: 1 .\"Warning message in SVAR(x = varboot, estmethod = c(\"scoring\", \"direct\"), Amat = amat, :\n",
      "\"Convergence not achieved after 100 iterations. Convergence value: 1 .\"Warning message in SVAR(x = varboot, estmethod = c(\"scoring\", \"direct\"), Amat = amat, :\n",
      "\"Convergence not achieved after 100 iterations. Convergence value: 1 .\"Warning message in SVAR(x = varboot, estmethod = c(\"scoring\", \"direct\"), Amat = amat, :\n",
      "\"Convergence not achieved after 100 iterations. Convergence value: 1 .\"Warning message in SVAR(x = varboot, estmethod = c(\"scoring\", \"direct\"), Amat = amat, :\n",
      "\"Convergence not achieved after 100 iterations. Convergence value: 1 .\"Warning message in SVAR(x = varboot, estmethod = c(\"scoring\", \"direct\"), Amat = amat, :\n",
      "\"Convergence not achieved after 100 iterations. Convergence value: 1 .\"Warning message in SVAR(x = varboot, estmethod = c(\"scoring\", \"direct\"), Amat = amat, :\n",
      "\"Convergence not achieved after 100 iterations. Convergence value: 1 .\"Warning message in SVAR(x = varboot, estmethod = c(\"scoring\", \"direct\"), Amat = amat, :\n",
      "\"Convergence not achieved after 100 iterations. Convergence value: 1 .\"Warning message in SVAR(x = varboot, estmethod = c(\"scoring\", \"direct\"), Amat = amat, :\n",
      "\"Convergence not achieved after 100 iterations. Convergence value: 1 .\"Warning message in SVAR(x = varboot, estmethod = c(\"scoring\", \"direct\"), Amat = amat, :\n",
      "\"Convergence not achieved after 100 iterations. Convergence value: 1 .\"Warning message in SVAR(x = varboot, estmethod = c(\"scoring\", \"direct\"), Amat = amat, :\n",
      "\"Convergence not achieved after 100 iterations. Convergence value: 1 .\"Warning message in SVAR(x = varboot, estmethod = c(\"scoring\", \"direct\"), Amat = amat, :\n",
      "\"Convergence not achieved after 100 iterations. Convergence value: 1 .\"Warning message in SVAR(x = varboot, estmethod = c(\"scoring\", \"direct\"), Amat = amat, :\n",
      "\"Convergence not achieved after 100 iterations. Convergence value: 1 .\"Warning message in SVAR(x = varboot, estmethod = c(\"scoring\", \"direct\"), Amat = amat, :\n",
      "\"Convergence not achieved after 100 iterations. Convergence value: 1 .\"Warning message in SVAR(x = varboot, estmethod = c(\"scoring\", \"direct\"), Amat = amat, :\n",
      "\"Convergence not achieved after 100 iterations. Convergence value: 1 .\"Warning message in SVAR(x = varboot, estmethod = c(\"scoring\", \"direct\"), Amat = amat, :\n",
      "\"Convergence not achieved after 100 iterations. Convergence value: 1 .\"Warning message in SVAR(x = varboot, estmethod = c(\"scoring\", \"direct\"), Amat = amat, :\n",
      "\"Convergence not achieved after 100 iterations. Convergence value: 1 .\"Warning message in SVAR(x = varboot, estmethod = c(\"scoring\", \"direct\"), Amat = amat, :\n",
      "\"Convergence not achieved after 100 iterations. Convergence value: 1 .\"Warning message in SVAR(x = varboot, estmethod = c(\"scoring\", \"direct\"), Amat = amat, :\n",
      "\"Convergence not achieved after 100 iterations. Convergence value: 1 .\"Warning message in SVAR(x = varboot, estmethod = c(\"scoring\", \"direct\"), Amat = amat, :\n",
      "\"Convergence not achieved after 100 iterations. Convergence value: 1 .\"Warning message in SVAR(x = varboot, estmethod = c(\"scoring\", \"direct\"), Amat = amat, :\n",
      "\"Convergence not achieved after 100 iterations. Convergence value: 1 .\"Warning message in SVAR(x = varboot, estmethod = c(\"scoring\", \"direct\"), Amat = amat, :\n",
      "\"Convergence not achieved after 100 iterations. Convergence value: 1 .\"Warning message in SVAR(x = varboot, estmethod = c(\"scoring\", \"direct\"), Amat = amat, :\n",
      "\"Convergence not achieved after 100 iterations. Convergence value: 1 .\"Warning message in SVAR(x = varboot, estmethod = c(\"scoring\", \"direct\"), Amat = amat, :\n",
      "\"Convergence not achieved after 100 iterations. Convergence value: 1 .\"Warning message in SVAR(x = varboot, estmethod = c(\"scoring\", \"direct\"), Amat = amat, :\n",
      "\"Convergence not achieved after 100 iterations. Convergence value: 1 .\"Warning message in SVAR(x = varboot, estmethod = c(\"scoring\", \"direct\"), Amat = amat, :\n",
      "\"Convergence not achieved after 100 iterations. Convergence value: 1 .\"Warning message in SVAR(x = varboot, estmethod = c(\"scoring\", \"direct\"), Amat = amat, :\n",
      "\"Convergence not achieved after 100 iterations. Convergence value: 1 .\"Warning message in SVAR(x = varboot, estmethod = c(\"scoring\", \"direct\"), Amat = amat, :\n",
      "\"Convergence not achieved after 100 iterations. Convergence value: 1 .\"Warning message in SVAR(x = varboot, estmethod = c(\"scoring\", \"direct\"), Amat = amat, :\n",
      "\"Convergence not achieved after 100 iterations. Convergence value: 1 .\"Warning message in SVAR(x = varboot, estmethod = c(\"scoring\", \"direct\"), Amat = amat, :\n",
      "\"Convergence not achieved after 100 iterations. Convergence value: 1 .\"Warning message in SVAR(x = varboot, estmethod = c(\"scoring\", \"direct\"), Amat = amat, :\n",
      "\"Convergence not achieved after 100 iterations. Convergence value: 1 .\"Warning message in SVAR(x = varboot, estmethod = c(\"scoring\", \"direct\"), Amat = amat, :\n",
      "\"Convergence not achieved after 100 iterations. Convergence value: 1 .\"Warning message in SVAR(x = varboot, estmethod = c(\"scoring\", \"direct\"), Amat = amat, :\n",
      "\"Convergence not achieved after 100 iterations. Convergence value: 1 .\"Warning message in SVAR(x = varboot, estmethod = c(\"scoring\", \"direct\"), Amat = amat, :\n",
      "\"Convergence not achieved after 100 iterations. Convergence value: 1 .\"Warning message in SVAR(x = varboot, estmethod = c(\"scoring\", \"direct\"), Amat = amat, :\n",
      "\"Convergence not achieved after 100 iterations. Convergence value: 1 .\"Warning message in SVAR(x = varboot, estmethod = c(\"scoring\", \"direct\"), Amat = amat, :\n",
      "\"Convergence not achieved after 100 iterations. Convergence value: 1 .\"Warning message in SVAR(x = varboot, estmethod = c(\"scoring\", \"direct\"), Amat = amat, :\n",
      "\"Convergence not achieved after 100 iterations. Convergence value: 1 .\"Warning message in SVAR(x = varboot, estmethod = c(\"scoring\", \"direct\"), Amat = amat, :\n",
      "\"Convergence not achieved after 100 iterations. Convergence value: 1 .\"Warning message in SVAR(x = varboot, estmethod = c(\"scoring\", \"direct\"), Amat = amat, :\n",
      "\"Convergence not achieved after 100 iterations. Convergence value: 1 .\"Warning message in SVAR(x = varboot, estmethod = c(\"scoring\", \"direct\"), Amat = amat, :\n",
      "\"Convergence not achieved after 100 iterations. Convergence value: 1 .\"Warning message in SVAR(x = varboot, estmethod = c(\"scoring\", \"direct\"), Amat = amat, :\n",
      "\"Convergence not achieved after 100 iterations. Convergence value: 1 .\"Warning message in SVAR(x = varboot, estmethod = c(\"scoring\", \"direct\"), Amat = amat, :\n",
      "\"Convergence not achieved after 100 iterations. Convergence value: 1 .\"Warning message in SVAR(x = varboot, estmethod = c(\"scoring\", \"direct\"), Amat = amat, :\n",
      "\"Convergence not achieved after 100 iterations. Convergence value: 1 .\"Warning message in SVAR(x = varboot, estmethod = c(\"scoring\", \"direct\"), Amat = amat, :\n",
      "\"Convergence not achieved after 100 iterations. Convergence value: 1 .\"Warning message in SVAR(x = varboot, estmethod = c(\"scoring\", \"direct\"), Amat = amat, :\n",
      "\"Convergence not achieved after 100 iterations. Convergence value: 1 .\"Warning message in SVAR(x = varboot, estmethod = c(\"scoring\", \"direct\"), Amat = amat, :\n",
      "\"Convergence not achieved after 100 iterations. Convergence value: 1 .\"Warning message in SVAR(x = varboot, estmethod = c(\"scoring\", \"direct\"), Amat = amat, :\n",
      "\"Convergence not achieved after 100 iterations. Convergence value: 1 .\"Warning message in SVAR(x = varboot, estmethod = c(\"scoring\", \"direct\"), Amat = amat, :\n",
      "\"Convergence not achieved after 100 iterations. Convergence value: 1 .\"Warning message in SVAR(x = varboot, estmethod = c(\"scoring\", \"direct\"), Amat = amat, :\n",
      "\"Convergence not achieved after 100 iterations. Convergence value: 1 .\"Warning message in SVAR(x = varboot, estmethod = c(\"scoring\", \"direct\"), Amat = amat, :\n",
      "\"Convergence not achieved after 100 iterations. Convergence value: 1 .\"Warning message in SVAR(x = varboot, estmethod = c(\"scoring\", \"direct\"), Amat = amat, :\n",
      "\"Convergence not achieved after 100 iterations. Convergence value: 1 .\"Warning message in SVAR(x = varboot, estmethod = c(\"scoring\", \"direct\"), Amat = amat, :\n",
      "\"Convergence not achieved after 100 iterations. Convergence value: 1 .\"Warning message in SVAR(x = varboot, estmethod = c(\"scoring\", \"direct\"), Amat = amat, :\n",
      "\"Convergence not achieved after 100 iterations. Convergence value: 1 .\"Warning message in SVAR(x = varboot, estmethod = c(\"scoring\", \"direct\"), Amat = amat, :\n",
      "\"Convergence not achieved after 100 iterations. Convergence value: 1 .\"Warning message in SVAR(x = varboot, estmethod = c(\"scoring\", \"direct\"), Amat = amat, :\n",
      "\"Convergence not achieved after 100 iterations. Convergence value: 1 .\"Warning message in SVAR(x = varboot, estmethod = c(\"scoring\", \"direct\"), Amat = amat, :\n",
      "\"Convergence not achieved after 100 iterations. Convergence value: 1 .\"Warning message in SVAR(x = varboot, estmethod = c(\"scoring\", \"direct\"), Amat = amat, :\n",
      "\"Convergence not achieved after 100 iterations. Convergence value: 1 .\"Warning message in SVAR(x = varboot, estmethod = c(\"scoring\", \"direct\"), Amat = amat, :\n",
      "\"Convergence not achieved after 100 iterations. Convergence value: 1 .\"Warning message in SVAR(x = varboot, estmethod = c(\"scoring\", \"direct\"), Amat = amat, :\n",
      "\"Convergence not achieved after 100 iterations. Convergence value: 1 .\"Warning message in SVAR(x = varboot, estmethod = c(\"scoring\", \"direct\"), Amat = amat, :\n",
      "\"Convergence not achieved after 100 iterations. Convergence value: 1 .\"Warning message in SVAR(x = varboot, estmethod = c(\"scoring\", \"direct\"), Amat = amat, :\n",
      "\"Convergence not achieved after 100 iterations. Convergence value: 1 .\"Warning message in SVAR(x = varboot, estmethod = c(\"scoring\", \"direct\"), Amat = amat, :\n",
      "\"Convergence not achieved after 100 iterations. Convergence value: 1 .\"Warning message in SVAR(x = varboot, estmethod = c(\"scoring\", \"direct\"), Amat = amat, :\n",
      "\"Convergence not achieved after 100 iterations. Convergence value: 1 .\"Warning message in SVAR(x = varboot, estmethod = c(\"scoring\", \"direct\"), Amat = amat, :\n",
      "\"Convergence not achieved after 100 iterations. Convergence value: 1 .\"Warning message in SVAR(x = varboot, estmethod = c(\"scoring\", \"direct\"), Amat = amat, :\n",
      "\"Convergence not achieved after 100 iterations. Convergence value: 1 .\"Warning message in SVAR(x = varboot, estmethod = c(\"scoring\", \"direct\"), Amat = amat, :\n",
      "\"Convergence not achieved after 100 iterations. Convergence value: 1 .\"Warning message in SVAR(x = varboot, estmethod = c(\"scoring\", \"direct\"), Amat = amat, :\n",
      "\"Convergence not achieved after 100 iterations. Convergence value: 1 .\"Warning message in SVAR(x = varboot, estmethod = c(\"scoring\", \"direct\"), Amat = amat, :\n",
      "\"Convergence not achieved after 100 iterations. Convergence value: 1 .\""
     ]
    },
    {
     "data": {
      "image/png": "[encoded data removed]",
      "text/plain": [
       "plot without title"
      ]
     },
     "metadata": {},
     "output_type": "display_data"
    }
   ],
   "source": [
    "SVAR_irf <- irf(SVAR_Mod, impulse = \"GDP\", response = \"MP\")\n",
    "plot(SVAR_irf)"
   ]
  }
 ],
 "metadata": {
  "kernelspec": {
   "display_name": "R",
   "language": "R",
   "name": "ir"
  },
  "language_info": {
   "codemirror_mode": "r",
   "file_extension": ".r",
   "mimetype": "text/x-r-source",
   "name": "R",
   "pygments_lexer": "r",
   "version": "3.6.1"
  }
 },
 "nbformat": 4,
 "nbformat_minor": 4
}
